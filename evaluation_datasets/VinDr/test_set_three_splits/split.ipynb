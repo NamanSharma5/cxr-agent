{
 "cells": [
  {
   "cell_type": "code",
   "execution_count": 1,
   "metadata": {},
   "outputs": [],
   "source": [
    "from pathlib import Path\n",
    "import os\n",
    "import random\n",
    "import pandas as pd\n"
   ]
  },
  {
   "cell_type": "code",
   "execution_count": 12,
   "metadata": {},
   "outputs": [],
   "source": [
    "all_test_files = Path('/vol/biomedic3/bglocker/ugproj2324/nns20/datasets/VinDr-CXR/image_text_reasoning_datasets/test_all_left_or_right')\n",
    "no_finding = set()\n",
    "all_images = set()\n",
    "with open(all_test_files,'r') as f:\n",
    "    for line in f:\n",
    "        image_id = line.split(',')[0] \n",
    "        all_images.add(image_id)\n",
    "        if 'No finding' in line:\n",
    "            no_finding.add(image_id)"
   ]
  },
  {
   "cell_type": "code",
   "execution_count": 26,
   "metadata": {},
   "outputs": [],
   "source": [
    "train_proportion = 0.75\n",
    "val_proportion = 0.10\n",
    "test_proportion = 0.15\n",
    "\n",
    "# randomly split all_images into train, val, test\n",
    "all_images = list(all_images)\n",
    "random.shuffle(all_images)\n",
    "num_images = len(all_images)\n",
    "train_images = all_images[:int(train_proportion*num_images)]\n",
    "val_images = all_images[int(train_proportion*num_images):int((train_proportion+val_proportion)*num_images)]\n",
    "test_images = all_images[int((train_proportion+val_proportion)*num_images):]\n"
   ]
  },
  {
   "cell_type": "code",
   "execution_count": 27,
   "metadata": {},
   "outputs": [
    {
     "name": "stdout",
     "output_type": "stream",
     "text": [
      "train set images with findings: 728\n",
      "val set images with findings: 96\n",
      "test set images with findings: 125\n"
     ]
    }
   ],
   "source": [
    "# print the number of no finding images in each split\n",
    "\n",
    "print(f\"train set images with findings: {len(train_images) - len(set(train_images).intersection(no_finding))}\")\n",
    "print(f\"val set images with findings: {len(val_images) - len(set(val_images).intersection(no_finding))}\")\n",
    "print(f\"test set images with findings: {len(test_images) - len(set(test_images).intersection(no_finding))}\")\n"
   ]
  },
  {
   "cell_type": "code",
   "execution_count": 18,
   "metadata": {},
   "outputs": [],
   "source": [
    "with open('VinDr_test_train_split.txt','w') as f:\n",
    "    for image_id in train_images:\n",
    "        f.write(image_id+'\\n')\n",
    "\n",
    "with open('VinDr_test_val_split.txt','w') as f:\n",
    "    for image_id in val_images:\n",
    "        f.write(image_id+'\\n')\n",
    "\n",
    "with open('VinDr_test_test_split.txt','w') as f:\n",
    "    for image_id in test_images:\n",
    "        f.write(image_id+'\\n')"
   ]
  },
  {
   "cell_type": "code",
   "execution_count": 7,
   "metadata": {},
   "outputs": [],
   "source": [
    "\n",
    "image_labels_test_csv = Path('/vol/biodata/data/chest_xray/VinDr-CXR/1.0.0_png_512/raw/annotations/image_labels_test.csv')\n",
    "\n",
    "# Read the data using pandas\n",
    "df = pd.read_csv(image_labels_test_csv)\n",
    "\n",
    "# Convert the dataframe to a dictionary where the key is image_id and the value is a list of pathologies\n",
    "image_to_pathologies = {}\n",
    "for index, row in df.iterrows():\n",
    "    image_id = row['image_id']\n",
    "    pathologies = [col for col in df.columns if row[col] == 1 and col != 'image_id']\n",
    "    image_to_pathologies[image_id] = pathologies\n",
    "\n"
   ]
  },
  {
   "cell_type": "code",
   "execution_count": 2,
   "metadata": {},
   "outputs": [],
   "source": [
    "# go through the train, val, test split files and write the corresponding labels to the row corresponding to the image_id\n",
    "train_split_file = Path('VinDr_test_train_split.txt')\n",
    "val_split_file = Path('VinDr_test_val_split.txt')\n",
    "test_split_file = Path('VinDr_test_test_split.txt')\n",
    "\n",
    "train_split_file_with_labels = Path('VinDr_test_train_split_with_labels.csv')\n",
    "val_split_file_with_labels = Path('VinDr_test_val_split_with_labels.csv')\n",
    "test_split_file_with_labels = Path('VinDr_test_test_split_with_labels.csv')\n",
    "\n",
    "# with open(train_split_file,'r') as f:\n",
    "#     train_images = f.readlines()\n",
    "#     train_images = [image.strip() for image in train_images]\n",
    "\n",
    "# with open(val_split_file,'r') as f:\n",
    "#     val_images = f.readlines()\n",
    "#     val_images = [image.strip() for image in val_images]\n",
    "    \n",
    "# with open(test_split_file,'r') as f:\n",
    "#     test_images = f.readlines()\n",
    "#     test_images = [image.strip() for image in test_images]\n",
    "\n",
    "# with open(train_split_file_with_labels,'w') as f:\n",
    "\n",
    "#     for image_id in train_images:\n",
    "#         pathologies = image_to_pathologies[image_id]\n",
    "#         f.write(image_id+','+','.join(pathologies)+'\\n')\n",
    "\n",
    "# with open(val_split_file_with_labels,'w') as f:\n",
    "\n",
    "#     for image_id in val_images:\n",
    "#         pathologies = image_to_pathologies[image_id]\n",
    "#         f.write(image_id+','+','.join(pathologies)+'\\n')\n",
    "\n",
    "# with open(test_split_file_with_labels,'w') as f:\n",
    "\n",
    "#     for image_id in test_images:\n",
    "#         pathologies = image_to_pathologies[image_id]\n",
    "#         f.write(image_id+','+','.join(pathologies)+'\\n')\n",
    "        \n",
    "\n"
   ]
  },
  {
   "cell_type": "code",
   "execution_count": 5,
   "metadata": {},
   "outputs": [],
   "source": [
    "# convert labels to tensors with 0s and 1s depending on whether the pathology is present or not\n",
    "test_split_file_with_one_hot_labels = Path('VinDr_test_test_split_with_one_hot_labels.csv')\n",
    "\n",
    "vindr_pathologies = [\"Aortic enlargement\", \"Atelectasis\", \"Calcification\", \"Cardiomegaly\",\n",
    "            \"Clavicle fracture\", \"Consolidation\", \"Emphysema\", \"Enlarged PA\",\n",
    "            \"ILD\", \"Infiltration\", \"Lung Opacity\", \"Lung cavity\", \"Lung cyst\",\n",
    "            \"Mediastinal shift\",\"Nodule/Mass\", \"Pleural effusion\", \"Pleural thickening\",\n",
    "            \"Pneumothorax\", \"Pulmonary fibrosis\",\"Rib fracture\", \"Other lesion\",\n",
    "            \"No finding\"] \n",
    "\n",
    "pathology_indices = {pathology: i for i, pathology in enumerate(vindr_pathologies)}\n",
    "\n",
    "def convert_pathologies_to_array(pathology_list, pathology_indices):\n",
    "    \"\"\" Convert list of pathologies to an array of 0s and 1s \"\"\"\n",
    "    pathology_array = [0] * len(pathology_indices)\n",
    "    for pathology in pathology_list:\n",
    "        index = pathology_indices.get(pathology)\n",
    "        if index is not None:\n",
    "            pathology_array[index] = 1\n",
    "    return pathology_array\n",
    "\n",
    "def process_file(input_file_path, output_file_path):\n",
    "    with open(input_file_path, 'r') as file, open(output_file_path, 'w') as out_file:\n",
    "        out_file.write('image_id,' + ','.join(vindr_pathologies) + '\\n')\n",
    "        for line in file:\n",
    "            parts = line.strip().split(',')\n",
    "            image_id = parts[0]\n",
    "            pathologies = parts[1:]\n",
    "            pathology_array = convert_pathologies_to_array(pathologies, pathology_indices)\n",
    "            output_line = f\"{image_id},\" + ','.join(map(str, pathology_array))\n",
    "            out_file.write(output_line + '\\n')\n",
    "\n",
    "process_file(test_split_file_with_labels, test_split_file_with_one_hot_labels)\n"
   ]
  }
 ],
 "metadata": {
  "kernelspec": {
   "display_name": "Python 3",
   "language": "python",
   "name": "python3"
  },
  "language_info": {
   "codemirror_mode": {
    "name": "ipython",
    "version": 3
   },
   "file_extension": ".py",
   "mimetype": "text/x-python",
   "name": "python",
   "nbconvert_exporter": "python",
   "pygments_lexer": "ipython3",
   "version": "3.10.12"
  }
 },
 "nbformat": 4,
 "nbformat_minor": 2
}
