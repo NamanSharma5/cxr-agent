{
 "cells": [
  {
   "cell_type": "code",
   "execution_count": 7,
   "metadata": {},
   "outputs": [
    {
     "name": "stdout",
     "output_type": "stream",
     "text": [
      "120\n"
     ]
    }
   ],
   "source": [
    "key_words = {\"opacity\", \"pleural effusion\", \"atelectasis\"}\n",
    "count = 0\n",
    "with open(\"image_text_reasoning_task\") as f:\n",
    "    for line in f.readlines():\n",
    "        option_0 = line.split(\",\")[5]\n",
    "        option_1 = line.split(\",\")[6]\n",
    "        # if key word in line increment count\n",
    "        if any(word in line for word in key_words):\n",
    "            if (\"left\" in option_0 and \"right\" in option_1) or (\"right\" in option_0 and \"left\" in option_1):          \n",
    "                count += 1\n",
    "                # print(line)\n",
    "\n",
    "print(count)"
   ]
  }
 ],
 "metadata": {
  "kernelspec": {
   "display_name": ".venv",
   "language": "python",
   "name": "python3"
  },
  "language_info": {
   "codemirror_mode": {
    "name": "ipython",
    "version": 3
   },
   "file_extension": ".py",
   "mimetype": "text/x-python",
   "name": "python",
   "nbconvert_exporter": "python",
   "pygments_lexer": "ipython3",
   "version": "3.10.12"
  }
 },
 "nbformat": 4,
 "nbformat_minor": 2
}
