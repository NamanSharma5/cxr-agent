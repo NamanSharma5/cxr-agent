{
 "cells": [
  {
   "cell_type": "code",
   "execution_count": 1,
   "metadata": {},
   "outputs": [],
   "source": [
    "from pathlib import Path\n",
    "from collections import defaultdict\n",
    "import random\n",
    "import re"
   ]
  },
  {
   "cell_type": "markdown",
   "metadata": {},
   "source": [
    "#### 1) get all subjects with a single study AND a single scan in that single study"
   ]
  },
  {
   "cell_type": "code",
   "execution_count": 13,
   "metadata": {},
   "outputs": [
    {
     "name": "stdout",
     "output_type": "stream",
     "text": [
      "32695\n"
     ]
    }
   ],
   "source": [
    "mimic_cxr_path = Path('/vol/biodata/data/chest_xray/mimic-cxr')\n",
    "mimic_cxr_jpg_path = Path('/vol/biodata/data/chest_xray/mimic-cxr-jpg')\n",
    "# show the subdirectories\n",
    "mimic_cxr_study_list =  Path(\"/vol/biodata/data/chest_xray/mimic-cxr/cxr-study-list.csv\")\n",
    "\n",
    "\n",
    "subject_id_to_study_freq = defaultdict(int)\n",
    "with open(mimic_cxr_study_list) as f:\n",
    "    next(f) # skip the header\n",
    "    for line in f:\n",
    "        subject_id, study_id, report_location = line.strip().split(',')\n",
    "        subject_id_to_study_freq[subject_id] += 1\n",
    "\n",
    "single_study_subjects = []\n",
    "for subject_id, freq in subject_id_to_study_freq.items():\n",
    "    if freq == 1:\n",
    "        single_study_subjects.append(subject_id)\n",
    "\n",
    "print(len(single_study_subjects))\n",
    "\n",
    "### this is slow due to DISK I/O\n",
    "# for each subject check how many images are in its folder\n",
    "# subjects_with_single_scan = []\n",
    "# for subject_id in single_study_subjects:\n",
    "#     subject_path = mimic_cxr_path/\"files\"/ f\"p{subject_id[:2]}/p{subject_id}\"\n",
    "\n",
    "#     sub = list(subject_path.glob('*'))\n",
    "#     for s in sub:\n",
    "#         if s.is_dir():\n",
    "#             # print(list(s.glob('*')))\n",
    "#             if len(list(s.glob('*'))) == 1:\n",
    "#                 subjects_with_single_scan.append(subject_id)"
   ]
  },
  {
   "cell_type": "markdown",
   "metadata": {},
   "source": [
    "#### 2) inspect reports to see how to filter down from 5500+ reports"
   ]
  },
  {
   "cell_type": "code",
   "execution_count": 26,
   "metadata": {},
   "outputs": [],
   "source": [
    "subjects_with_single_scan_path = Path(\"/vol/biomedic3/bglocker/ugproj2324/nns20/cxr-agent/mimic-cxr-reports/subjects_with_single_scan.txt\")\n",
    "\n",
    "subjects_with_single_scan = []\n",
    "with open(subjects_with_single_scan_path) as f:\n",
    "    subjects_with_single_scan = [line.strip() for line in f.readlines()]\n",
    "\n",
    "    reports_subjects_with_single_scan_path = Path(\"/vol/biomedic3/bglocker/ugproj2324/nns20/cxr-agent/mimic-cxr-reports/reports_subjects_with_single_scan.txt\")\n",
    "# with open(reports_subjects_with_single_scan_path, 'w') as output_f:\n",
    "#     for subject in subjects_with_single_scan:\n",
    "#         # print(f\"Subject {subject}\")\n",
    "#         output_f.write(f\"Subject {subject}\\n\")\n",
    "#         subject_path = mimic_cxr_path/\"files\"/ f\"p{subject[:2]}/p{subject}\"\n",
    "#         txt_files = list(subject_path.glob('*.txt'))\n",
    "\n",
    "#         with open(txt_files[0]) as input_f:\n",
    "#             for line in input_f:\n",
    "#                 output_f.write(line)\n",
    "\n",
    "#         output_f.write(\"--------------------------------\\n\")\n",
    "\n"
   ]
  },
  {
   "cell_type": "markdown",
   "metadata": {},
   "source": [
    "#### 3) Select only the reports with no prior based on REGEX: `COMPARISON:\\s*N(O|o)(\\s+.+)?`\n",
    "i.e. words: \"COMPARISON\" any number of spaces and then \"No\" followed by anything up to a new line character"
   ]
  },
  {
   "cell_type": "code",
   "execution_count": 42,
   "metadata": {},
   "outputs": [
    {
     "name": "stdout",
     "output_type": "stream",
     "text": [
      "COMPARISON: None\n",
      "COMPARISON:  NONE available.\n",
      "COMPARISON:  No relevant comparisons available.\n",
      " COMPARISON:  No prior chest radiographs available for review.\n",
      " COMPARISON: \n",
      " None available.\n"
     ]
    }
   ],
   "source": [
    "test_strings = [\"COMPARISON: None\", \"COMPARISON:  NONE available.\", \"COMPARISON:  No relevant comparisons available.\",\" COMPARISON:  No prior chest radiographs available for review.\",\" COMPARISON: \\n None available.\"] \n",
    "\n",
    "\n",
    "# comparison_regex = re.compile(r\"COMPARISON:\\s*(NONE|None|NO|No)(\\s+.+)?\", re.IGNORECASE)\n",
    "comparison_regex = re.compile(r\"COMPARISON:\\s*N(O|o)(\\s+.+)?\", re.IGNORECASE)\n",
    "\n",
    "for test_string in test_strings:\n",
    "    match = comparison_regex.search(test_string)\n",
    "    if match:\n",
    "        print(test_string)\n",
    "    else:\n",
    "        print(\"No match\")"
   ]
  },
  {
   "cell_type": "code",
   "execution_count": 57,
   "metadata": {},
   "outputs": [],
   "source": [
    "single_scan_and_study_subjects_with_no_prior_path = Path(\"/vol/biomedic3/bglocker/ugproj2324/nns20/cxr-agent/mimic-cxr-reports/reports_single_scan_no_prior.txt\")\n",
    "single_scan_and_study_subjects_with_no_prior_list = []\n",
    "comparison_regex = re.compile(r\"COMPARISON:\\s*N(O|o)(\\s+.+)?\", re.IGNORECASE)\n",
    "\n",
    "with open(single_scan_and_study_subjects_with_no_prior_path,'a') as output_f:\n",
    "    for subject in subjects_with_single_scan:\n",
    "        subject_path = mimic_cxr_path/\"files\"/ f\"p{subject[:2]}/p{subject}\"\n",
    "        txt_files = list(subject_path.glob('*.txt'))\n",
    "\n",
    "        with open(txt_files[0]) as input_f:\n",
    "            content = input_f.read()\n",
    "            if comparison_regex.search(content) and not \"lateral view\" in content:  # Use match() for exact line matching\n",
    "                single_scan_and_study_subjects_with_no_prior_list.append(subject)\n",
    "                output_f.write(f\"Subject {subject}\\n\")\n",
    "                output_f.write(content)\n",
    "                output_f.write(\"--------------------------------\\n\")\n",
    "\n",
    "\n",
    "# with open(\"subjects_with_single_scan_no_prior.txt\", 'w') as f:\n",
    "#     for subject in single_scan_and_study_subjects_with_no_prior_list:\n",
    "#         f.write(f\"{subject}\\n\")"
   ]
  },
  {
   "cell_type": "code",
   "execution_count": 26,
   "metadata": {},
   "outputs": [],
   "source": [
    "with open(\"subject_single_scan_and_no_prior_report\", 'w') as f_output:\n",
    "\n",
    "    with open(\"subjects_with_single_scan_no_prior.txt\") as f_input:\n",
    "        subjects_with_single_scan_no_prior = [line.strip() for line in f_input.readlines()]\n",
    "\n",
    "    subject_to_image_path = {}\n",
    "    subject_to_report = {}\n",
    "\n",
    "    for subject in subjects_with_single_scan_no_prior:\n",
    "        subject_path = mimic_cxr_path/\"files\"/ f\"p{subject[:2]}/p{subject}\"\n",
    "        report_path = list(subject_path.glob('*.txt'))[0]\n",
    "        report = report_path.read_text()\n",
    "\n",
    "        subject_path_jpg = mimic_cxr_jpg_path/\"files\"/ f\"p{subject[:2]}/p{subject}\"\n",
    "        \n",
    "        study_folder = list(subject_path_jpg.glob('*'))[0]\n",
    "        jpg_file = list(study_folder.glob('*.jpg'))[0]\n",
    "        \n",
    "        subject_to_report[subject] = report\n",
    "        subject_to_image_path[subject] = jpg_file\n",
    "        # f_output.write(f'{jpg_file}, \"{report}\"')\n",
    "            \n"
   ]
  }
 ],
 "metadata": {
  "kernelspec": {
   "display_name": ".venv",
   "language": "python",
   "name": "python3"
  },
  "language_info": {
   "codemirror_mode": {
    "name": "ipython",
    "version": 3
   },
   "file_extension": ".py",
   "mimetype": "text/x-python",
   "name": "python",
   "nbconvert_exporter": "python",
   "pygments_lexer": "ipython3",
   "version": "3.10.12"
  }
 },
 "nbformat": 4,
 "nbformat_minor": 2
}
