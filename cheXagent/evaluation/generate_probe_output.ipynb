{
 "cells": [
  {
   "cell_type": "code",
   "execution_count": 1,
   "metadata": {},
   "outputs": [],
   "source": [
    "import torch\n",
    "import torch.nn as nn\n",
    "from torch.utils.data import Dataset, DataLoader\n",
    "import numpy as np\n",
    "import pandas as pd\n",
    "from pathlib import Path\n",
    "\n",
    "\n",
    "## PROBE ORDER super important  as was used to train the model\n",
    "vindr_pathologies = [\"Aortic enlargement\", \"Atelectasis\", \"Calcification\", \"Cardiomegaly\",\n",
    "              \"Clavicle fracture\", \"Consolidation\", \"Emphysema\", \"Enlarged PA\",\n",
    "              \"ILD\", \"Infiltration\", \"Lung Opacity\", \"Lung cavity\", \"Lung cyst\",\n",
    "              \"Mediastinal shift\",\"Nodule/Mass\", \"Pleural effusion\", \"Pleural thickening\",\n",
    "              \"Pneumothorax\", \"Pulmonary fibrosis\",\"Rib fracture\", \"Other lesion\",\n",
    "              \"No finding\"] \n",
    "\n",
    "\n",
    "cheXpert_pathologies = ['No Finding','Enlarged Cardiomediastinum','Cardiomegaly','Lung Opacity',\n",
    "        'Lung Lesion','Edema','Consolidation','Pneumonia','Atelectasis','Pneumothorax',\n",
    "        'Pleural Effusion','Pleural Other','Fracture','Support Devices']"
   ]
  },
  {
   "cell_type": "markdown",
   "metadata": {},
   "source": [
    "Dataset Agnostic code"
   ]
  },
  {
   "cell_type": "code",
   "execution_count": 5,
   "metadata": {},
   "outputs": [],
   "source": [
    "class BinaryMultiPathologyPresenceDataset(Dataset):\n",
    "    def __init__(self, dataframe, pathology_columns, layer = \"post_layer_norm\"): # \"q_former\"\n",
    "        self.dataframe = dataframe\n",
    "        self.pathology_columns = pathology_columns\n",
    "        self.layer = layer\n",
    "\n",
    "    def __len__(self):\n",
    "        return len(self.dataframe)\n",
    "    \n",
    "    def __getitem__(self, idx):\n",
    "        row = self.dataframe.iloc[idx]\n",
    "        \n",
    "        # Extract embeddings and drop the first dimension i.e. [1,128,768] -> [128,768]\n",
    "        embeddings = torch.tensor(row[self.layer], dtype=torch.float)\n",
    "        \n",
    "        # Extract binary labels for pathologies\n",
    "        labels_values = row[self.pathology_columns].values\n",
    "        # set the dtype of each item in values to be an int\n",
    "        labels_values = [int(item) for item in labels_values]\n",
    "        labels_tensor = torch.tensor(labels_values, dtype=torch.float)\n",
    "\n",
    "        # image_id \n",
    "        image_id = row['image_id']\n",
    "        \n",
    "        return image_id, embeddings, labels_tensor\n",
    "\n",
    "class LinearClassifier(nn.Module):\n",
    "    def __init__(self, num_features, num_classes):\n",
    "        super(LinearClassifier, self).__init__()\n",
    "        self.linear = nn.Linear(num_features, num_classes)\n",
    "    \n",
    "    def forward(self, x):\n",
    "        x = self.linear(x)\n",
    "        # Shape of x becomes [batch_size, num_classes]\n",
    "        return x"
   ]
  },
  {
   "cell_type": "code",
   "execution_count": 6,
   "metadata": {},
   "outputs": [],
   "source": [
    "def generate_model_outputs_on_test_data(model,layer, test_data, pathologies):\n",
    "    model.eval()\n",
    "    image_id_to_predictions = {}\n",
    "    \n",
    "    for index, row in test_data.iterrows():\n",
    "        # Extract image_id and q_former from the row\n",
    "        image_id = row['image_id']\n",
    "        embeddings = row[layer]\n",
    "\n",
    "        # convert q_former to tensor\n",
    "        embeddings = torch.tensor(embeddings, dtype=torch.float)\n",
    "     \n",
    "        # Run your model to get predictions\n",
    "        with torch.no_grad():\n",
    "            outputs = model(embeddings.view(embeddings.size(0), -1))\n",
    "            predictions = torch.sigmoid(outputs)\n",
    "            predictions = predictions > 0.5\n",
    "        \n",
    "        # Convert predictions to a dictionary using the order of pathologies\n",
    "        predictions = predictions.squeeze().tolist()\n",
    "        predictions = {pathologies[i]: predictions[i] for i in range(len(pathologies))}\n",
    "        predictions = {k for k, v in predictions.items() if v}\n",
    "        if len(predictions) == 0:\n",
    "            predictions = {\"No Finding\"}\n",
    "        \n",
    "        # Store predictions in the dictionary with image_id as key\n",
    "        image_id_to_predictions[image_id] = predictions\n",
    "\n",
    "    return image_id_to_predictions\n",
    "\n",
    "def write_predictions_to_csv(image_id_to_predictions, output_file):\n",
    "    with open(output_file, 'w') as f:\n",
    "        for image_id, predictions in image_id_to_predictions.items():\n",
    "            predictions = \",\".join(predictions)\n",
    "            f.write(f\"{image_id},{predictions}\\n\")"
   ]
  },
  {
   "cell_type": "markdown",
   "metadata": {},
   "source": [
    "VinDr Generation (on VinDr data)"
   ]
  },
  {
   "cell_type": "code",
   "execution_count": 7,
   "metadata": {},
   "outputs": [],
   "source": [
    "test_all_pathology_path = Path(\"/vol/biomedic3/bglocker/ugproj2324/nns20/CheXagent/model_inspection/embeddings/VinDr/no_tuning_4934e91451945c8218c267aae9c34929a7677829/collated_test_all.pkl\")\n",
    "test_all_pathology = pd.read_pickle(test_all_pathology_path)\n",
    "\n",
    "VinDr_test_test_split_path = Path(\"/vol/biomedic3/bglocker/ugproj2324/nns20/datasets/VinDr-CXR/test_set_three_splits/VinDr_test_test_split.txt\")\n",
    "with open(VinDr_test_test_split_path, 'r') as f:\n",
    "    test_test_image_ids = f.read().splitlines()\n",
    "\n",
    "test_test_pathology_df = test_all_pathology[test_all_pathology[\"image_id\"].isin(test_test_image_ids)]"
   ]
  },
  {
   "cell_type": "code",
   "execution_count": 76,
   "metadata": {},
   "outputs": [
    {
     "data": {
      "text/plain": [
       "<All keys matched successfully>"
      ]
     },
     "execution_count": 76,
     "metadata": {},
     "output_type": "execute_result"
    }
   ],
   "source": [
    "layer_norm_weights = Path(\"/vol/biomedic3/bglocker/ugproj2324/nns20/CheXagent/model_inspection/post_layer_norm_best_vindr_model.pth\")\n",
    "vindr_layer_norm_model = LinearClassifier(1408, len(vindr_pathologies))\n",
    "vindr_layer_norm_model.load_state_dict(torch.load(layer_norm_weights))\n",
    "\n",
    "q_former_weights = Path(\"/vol/biomedic3/bglocker/ugproj2324/nns20/CheXagent/model_inspection/q_former_best_vindr_model.pth\")\n",
    "vindr_q_former_model = LinearClassifier(98304, len(vindr_pathologies))\n",
    "vindr_q_former_model.load_state_dict(torch.load(q_former_weights))"
   ]
  },
  {
   "cell_type": "code",
   "execution_count": null,
   "metadata": {},
   "outputs": [],
   "source": [
    "vindr_layer_norm_predictions = generate_model_outputs_on_test_data(vindr_layer_norm_model,\"post_layer_norm\", test_test_pathology_df, vindr_pathologies)\n",
    "write_predictions_to_csv(vindr_layer_norm_predictions, \"vindr_layer_norm_predictions.csv\")\n",
    "\n",
    "vindr_q_former_predictions = generate_model_outputs_on_test_data(vindr_q_former_model,\"q_former\", test_test_pathology_df, vindr_pathologies)\n",
    "write_predictions_to_csv(vindr_q_former_predictions, \"vindr_q_former_predictions.csv\")\n",
    "\n"
   ]
  },
  {
   "cell_type": "code",
   "execution_count": 10,
   "metadata": {},
   "outputs": [],
   "source": [
    "# testing CheXpert probe on VinDr data\n",
    "cheXpert_layer_norm_weights = Path(\"/vol/biomedic3/bglocker/ugproj2324/nns20/CheXagent/model_inspection/post_layer_norm_best_chexpert_model.pth\")\n",
    "chexpert_layer_norm_model = LinearClassifier(1408, len(cheXpert_pathologies))\n",
    "chexpert_layer_norm_model.load_state_dict(torch.load(cheXpert_layer_norm_weights))\n",
    "\n",
    "chexpert_model_vindr_predictions = generate_model_outputs_on_test_data(chexpert_layer_norm_model,\"post_layer_norm\", test_test_pathology_df, cheXpert_pathologies)\n",
    "write_predictions_to_csv(chexpert_model_vindr_predictions, \"chexpert_model_vindr_predictions.csv\")"
   ]
  },
  {
   "cell_type": "markdown",
   "metadata": {},
   "source": [
    "CheXpert Generation"
   ]
  },
  {
   "cell_type": "code",
   "execution_count": 12,
   "metadata": {},
   "outputs": [],
   "source": [
    "cheXpert_test_df = pd.read_pickle(\"/vol/biomedic3/bglocker/ugproj2324/nns20/CheXagent/model_inspection/embeddings/CheXpert-small/collated_test_df.pkl\")"
   ]
  },
  {
   "cell_type": "code",
   "execution_count": 81,
   "metadata": {},
   "outputs": [
    {
     "data": {
      "text/plain": [
       "<All keys matched successfully>"
      ]
     },
     "execution_count": 81,
     "metadata": {},
     "output_type": "execute_result"
    }
   ],
   "source": [
    "chexpert_layer_norm_weights = Path(\"/vol/biomedic3/bglocker/ugproj2324/nns20/CheXagent/model_inspection/post_layer_norm_best_chexpert_model.pth\")\n",
    "chexpert_layer_norm_model = LinearClassifier(1408, len(cheXpert_pathologies))\n",
    "chexpert_layer_norm_model.load_state_dict(torch.load(chexpert_layer_norm_weights))\n",
    "\n",
    "chexpert_q_former_weights = Path(\"/vol/biomedic3/bglocker/ugproj2324/nns20/CheXagent/model_inspection/q_former_best_chexpert_model.pth\")\n",
    "chexpert_q_former_model = LinearClassifier(98304, len(cheXpert_pathologies))\n",
    "chexpert_q_former_model.load_state_dict(torch.load(chexpert_q_former_weights))\n",
    "\n"
   ]
  },
  {
   "cell_type": "code",
   "execution_count": 82,
   "metadata": {},
   "outputs": [],
   "source": [
    "chexpert_layer_norm_predictions = generate_model_outputs_on_test_data(chexpert_layer_norm_model,\"post_layer_norm\", cheXpert_test_df, cheXpert_pathologies)\n",
    "write_predictions_to_csv(chexpert_layer_norm_predictions, \"chexpert_layer_norm_predictions.csv\")\n",
    "\n",
    "chexpert_q_former_predictions = generate_model_outputs_on_test_data(chexpert_q_former_model,\"q_former\", cheXpert_test_df, cheXpert_pathologies)\n",
    "write_predictions_to_csv(chexpert_q_former_predictions, \"chexpert_q_former_predictions.csv\")\n"
   ]
  },
  {
   "cell_type": "code",
   "execution_count": 13,
   "metadata": {},
   "outputs": [],
   "source": [
    "layer_norm_weights = Path(\"/vol/biomedic3/bglocker/ugproj2324/nns20/CheXagent/model_inspection/post_layer_norm_best_vindr_model.pth\")\n",
    "vindr_layer_norm_model = LinearClassifier(1408, len(vindr_pathologies))\n",
    "vindr_layer_norm_model.load_state_dict(torch.load(layer_norm_weights))\n",
    "\n",
    "vindr_model_chexpert_predictions = generate_model_outputs_on_test_data(vindr_layer_norm_model,\"post_layer_norm\", cheXpert_test_df, vindr_pathologies)\n",
    "write_predictions_to_csv(vindr_model_chexpert_predictions, \"chexpert_predictions_by_vindr_model.csv\")"
   ]
  }
 ],
 "metadata": {
  "kernelspec": {
   "display_name": ".venv",
   "language": "python",
   "name": "python3"
  },
  "language_info": {
   "codemirror_mode": {
    "name": "ipython",
    "version": 3
   },
   "file_extension": ".py",
   "mimetype": "text/x-python",
   "name": "python",
   "nbconvert_exporter": "python",
   "pygments_lexer": "ipython3",
   "version": "3.10.12"
  }
 },
 "nbformat": 4,
 "nbformat_minor": 2
}
