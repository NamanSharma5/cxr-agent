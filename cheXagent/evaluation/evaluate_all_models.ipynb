{
 "cells": [
  {
   "cell_type": "code",
   "execution_count": 93,
   "metadata": {},
   "outputs": [],
   "source": [
    "import torch\n",
    "import torch.nn as nn\n",
    "from torch.utils.data import Dataset, DataLoader\n",
    "import numpy as np\n",
    "import pandas as pd\n",
    "from pathlib import Path\n",
    "from collections import defaultdict\n",
    "from torchmetrics.classification import MultilabelAUROC\n",
    "from typing import TypeAlias, Union\n",
    "\n",
    "pathology_dict_type: TypeAlias = dict[set]"
   ]
  },
  {
   "cell_type": "markdown",
   "metadata": {},
   "source": [
    "Dataset agnostic code"
   ]
  },
  {
   "cell_type": "code",
   "execution_count": 43,
   "metadata": {},
   "outputs": [],
   "source": [
    "def build_image_id_to_pathology_dict(file_path, pathologies, gt_header = False,pathologies_check = True ) -> pathology_dict_type:\n",
    "    image_ids_to_pathologies = defaultdict(set)\n",
    "    pathologies = [pathology.lower() for pathology in pathologies]\n",
    "    with open(file_path, 'r') as f:\n",
    "        if gt_header:\n",
    "            header = f.readline() # skip header\n",
    "        for line in f.readlines():\n",
    "            line = line.strip().split(',')\n",
    "\n",
    "            for pathology in line[1:]:\n",
    "                if pathologies_check and pathology.lower() in pathologies:\n",
    "                    image_ids_to_pathologies[line[0]].add(pathology.lower())\n",
    "                else:\n",
    "                    image_ids_to_pathologies[line[0]].add(pathology.lower())\n",
    "\n",
    "    return image_ids_to_pathologies"
   ]
  },
  {
   "cell_type": "code",
   "execution_count": 97,
   "metadata": {},
   "outputs": [],
   "source": [
    "def normalize_labels(labels, synonym_mapping):\n",
    "    normalized_labels = set()\n",
    "    for label in labels:\n",
    "        found = False\n",
    "        for synonyms in synonym_mapping:\n",
    "            if label in synonyms:\n",
    "                normalized_labels.add(frozenset(synonyms))  # Adding the frozenset of synonyms\n",
    "                found = True\n",
    "                break\n",
    "        if not found:\n",
    "            normalized_labels.add(label)\n",
    "    return normalized_labels\n",
    "\n",
    "\n",
    "def contains_no_finding(label_set, synonym_mappings):\n",
    "    for synonyms in synonym_mappings:\n",
    "        if \"no finding\" in synonyms:\n",
    "            if frozenset(synonyms) in label_set:\n",
    "                return True\n",
    "    return False\n",
    "\n",
    "\n",
    "def convert_probabilities_to_labels(file_path: Path,pathologies, threshold = True, threshold_val = 0.5, top_k = False, k = 1) -> pathology_dict_type:\n",
    "    image_ids_to_pathologies = defaultdict(set)\n",
    "    pathologies = [pathology.lower() for pathology in pathologies]\n",
    "\n",
    "    with open(file_path, 'r') as f:\n",
    "        # header contains mapping of pathology index to pathology name\n",
    "        header = f.readline()\n",
    "        pathology_names = header.strip().split(',')[1:]\n",
    "        for line in f.readlines():\n",
    "            line = line.strip().split(',')\n",
    "            image_id = line[0]\n",
    "            probabilities = np.array([float(prob) for prob in line[1:]])\n",
    "            for i, prob in enumerate(probabilities):\n",
    "                pathology = pathology_names[i].lower()\n",
    "                if pathology not in pathologies:\n",
    "                    continue\n",
    "\n",
    "                if threshold:\n",
    "                    if prob >= threshold_val:\n",
    "                        image_ids_to_pathologies[image_id].add(pathology)\n",
    "                elif top_k:\n",
    "                    if i in np.argsort(probabilities)[-k:]:\n",
    "                        if probabilities[i] >= threshold_val: # threshold_val should be 0.5 when threshold flag is False\n",
    "                            image_ids_to_pathologies[image_id].add(pathology)\n",
    "                else:\n",
    "                    return ValueError(\"Invalid arguments for convert_probabilities_to_labels\")\n",
    "            \n",
    "            if len(image_ids_to_pathologies[image_id]) == 0:\n",
    "                image_ids_to_pathologies[image_id].add(\"no finding\")\n",
    "\n",
    "    return image_ids_to_pathologies\n",
    "\n",
    "\n",
    "def calculate_accuracy_metrics(gt_path: Path, preds: Union[Path, pathology_dict_type], gt_pathologies: set, pred_pathologies = None , synonym_mappings = [], threshold = True, threshold_val = 0.5, k = 1):\n",
    "    \"\"\"\n",
    "    Pre-reqs: assume header of probability files will have the pathology names (i.e. image_id, pathology1, pathology2, ...)\n",
    "    \n",
    "    Args:\n",
    "    gt_path: Path to the ground truth file with probabilities\n",
    "    preds: Path to the predictions file with probabilities or a dictionary of image_id to pathologies\n",
    "    gt_pathologies: Set of pathologies to consider in the ground truth, all others will be ignored\n",
    "    pred_pathologies: Set of pathologies to consider in the predictions, all others will be ignored\n",
    "    synonym_mappings: List of lists of synonyms for each pathology\n",
    "    threshold: Flag to determine whether to apply a threshold to the probabilities\n",
    "    threshold_val: Threshold value to apply to the probabilities\n",
    "    k: Number of top k pathologies to consider (only if threshold is False)\n",
    "    \"\"\"\n",
    "    \n",
    "    \n",
    "    ground_truth = convert_probabilities_to_labels(gt_path,pathologies = gt_pathologies)\n",
    "    if pred_pathologies is None:\n",
    "        pred_pathologies = gt_pathologies\n",
    "    \n",
    "    if isinstance(preds, Path):\n",
    "        predictions = convert_probabilities_to_labels(preds, pathologies = pred_pathologies, threshold = threshold, threshold_val = threshold_val, top_k = True, k = k)\n",
    "    else:\n",
    "        predictions = preds # Since CheXagent does not give probability bounds on outputs\n",
    "    \n",
    "    # Normalize each set of pathologies in the ground truth and predictions using the provided synonym mappings\n",
    "    normalized_ground_truth = {image_id: normalize_labels(gt_labels, synonym_mappings) for image_id, gt_labels in ground_truth.items()}\n",
    "    normalized_predictions = {image_id: normalize_labels(pred_labels, synonym_mappings) for image_id, pred_labels in predictions.items()}\n",
    "\n",
    "    exact_matches = 0\n",
    "    exact_no_finding = 0\n",
    "    exact_one_pathology = 0\n",
    "    exact_multiple_pathologies = 0\n",
    "\n",
    "    total_no_finding = 0\n",
    "    total_one_pathology = 0\n",
    "    total_multiple_pathologies = 0\n",
    "\n",
    "    correct_matches = 0\n",
    "    correct_no_finding = 0\n",
    "    correct_pathology = 0\n",
    "\n",
    "    for image_id, ground_truth_labels in normalized_ground_truth.items():\n",
    "        pred_labels = normalized_predictions.get(image_id, set())\n",
    "\n",
    "        is_no_finding = \"no finding\" in ground_truth_labels or contains_no_finding(ground_truth_labels, synonym_mappings)\n",
    "        if is_no_finding:\n",
    "            total_no_finding += 1\n",
    "        elif len(ground_truth_labels) == 1:\n",
    "            total_one_pathology += 1\n",
    "        else:  # Assuming any non-empty set of labels greater than 1 is 'multiple pathologies'\n",
    "            total_multiple_pathologies += 1\n",
    "        \n",
    "        # Calculate exact matches (Metric 1)\n",
    "        if ground_truth_labels == pred_labels:\n",
    "            exact_matches += 1\n",
    "            # Update metrics for matches (Metric 2)\n",
    "            if \"no finding\" in ground_truth_labels or contains_no_finding(ground_truth_labels, synonym_mappings):\n",
    "                exact_no_finding += 1\n",
    "            elif len(ground_truth_labels) == 1:\n",
    "                exact_one_pathology += 1\n",
    "            else:\n",
    "                exact_multiple_pathologies += 1\n",
    "        \n",
    "        # Calculate individual correct matches (Metric 3)\n",
    "        matched_pathologies = ground_truth_labels.intersection(pred_labels)\n",
    "        correct_matches += len(matched_pathologies)\n",
    "        \n",
    "        # Update metrics for matches (Metric 4)\n",
    "        for pathology in matched_pathologies:\n",
    "            if \"no finding\" in ground_truth_labels or contains_no_finding({pathology}, synonym_mappings):\n",
    "                correct_no_finding += 1\n",
    "            else:\n",
    "                correct_pathology += 1\n",
    "    \n",
    "    # Calculate metrics\n",
    "    n = len(ground_truth)\n",
    "    exact_matches_percentage = exact_matches / n\n",
    "    exact_no_finding_percentage = exact_no_finding / total_no_finding if total_no_finding > 0 else 0\n",
    "    exact_one_pathology_percentage = exact_one_pathology / total_one_pathology if total_one_pathology > 0 else 0\n",
    "    exact_multiple_pathologies_percentage = exact_multiple_pathologies / total_multiple_pathologies if total_multiple_pathologies > 0 else 0\n",
    "    \n",
    "    print(f\"Dataset Characteristics:\")\n",
    "    print(f\"No finding proportion: {total_no_finding/n:.2f}\")\n",
    "    print(f\"One pathology proportion: {total_one_pathology/n:.2f}\")\n",
    "    print(f\"Multiple pathologies proportion: {total_multiple_pathologies/n:.2f}\")\n",
    "    \n",
    "    print(f\"\\nExact Matches Characteristics:\")\n",
    "    print(f\"Exact matches: {exact_matches_percentage:.2f}\")\n",
    "    print(f\"Exact no finding: {exact_no_finding_percentage:.2f}\")\n",
    "    print(f\"Exact one pathology: {exact_one_pathology_percentage:.2f}\")\n",
    "    print(f\"Exact multiple pathologies: {exact_multiple_pathologies_percentage:.2f}\")\n",
    "    \n",
    "    total_num_of_pathologies = sum([len(pathologies) for pathologies in ground_truth.values()])\n",
    "    correct_matches_percentage = correct_matches / total_num_of_pathologies\n",
    "    correct_no_finding_percentage = correct_no_finding / total_no_finding if total_no_finding > 0 else 0\n",
    "    correct_pathology_percentage = correct_pathology / (total_num_of_pathologies - total_no_finding) if total_num_of_pathologies - total_no_finding > 0 else 0\n",
    "    \n",
    "    print(f\"\\nIndividual Pathology Characteristics:\")\n",
    "    print(f\"Correct matches: {correct_matches_percentage:.2f}\")\n",
    "    print(f\"Correct no finding: {correct_no_finding_percentage:.2f}\")\n",
    "    print(f\"Correct pathology: {correct_pathology_percentage:.2f}\")\n",
    "\n",
    "    return exact_matches_percentage, exact_no_finding_percentage, exact_one_pathology_percentage, exact_multiple_pathologies_percentage, correct_matches_percentage, correct_no_finding_percentage, correct_pathology_percentage\n",
    "\n",
    "\n",
    "def calculate_accuracy_metrics_prev(ground_truth:pathology_dict_type, predictions:pathology_dict_type, synonym_mappings = [], ignore_pathologies = []):\n",
    "\n",
    "    if len(ignore_pathologies) > 0:\n",
    "        # remove the pathologies to ignore from the ground truth and predictions\n",
    "        for image_id in ground_truth:\n",
    "            ground_truth[image_id] = ground_truth[image_id] - set(ignore_pathologies)\n",
    "        for image_id in predictions:\n",
    "            predictions[image_id] = predictions[image_id] - set(ignore_pathologies)\n",
    "\n",
    "    # Normalize each set of pathologies in the ground truth and predictions using the provided synonym mappings\n",
    "    normalized_ground_truth = {image_id: normalize_labels(gt_labels, synonym_mappings) for image_id, gt_labels in ground_truth.items()}\n",
    "    normalized_predictions = {image_id: normalize_labels(pred_labels, synonym_mappings) for image_id, pred_labels in predictions.items()}\n",
    "\n",
    "    exact_matches = 0\n",
    "    exact_no_finding = 0\n",
    "    exact_one_pathology = 0\n",
    "    exact_multiple_pathologies = 0\n",
    "\n",
    "    total_no_finding = 0\n",
    "    total_one_pathology = 0\n",
    "    total_multiple_pathologies = 0\n",
    "\n",
    "    correct_matches = 0\n",
    "    correct_no_finding = 0\n",
    "    correct_pathology = 0\n",
    "\n",
    "    for image_id, ground_truth_labels in normalized_ground_truth.items():\n",
    "        pred_labels = normalized_predictions.get(image_id, set())\n",
    "\n",
    "        is_no_finding = \"no finding\" in ground_truth_labels or contains_no_finding(ground_truth_labels, synonym_mappings)\n",
    "        if is_no_finding:\n",
    "            total_no_finding += 1\n",
    "        elif len(ground_truth_labels) == 1:\n",
    "            total_one_pathology += 1\n",
    "        else:  # Assuming any non-empty set of labels greater than 1 is 'multiple pathologies'\n",
    "            total_multiple_pathologies += 1\n",
    "        \n",
    "        # Calculate exact matches (Metric 1)\n",
    "        if ground_truth_labels == pred_labels:\n",
    "            exact_matches += 1\n",
    "            # Update metrics for matches (Metric 2)\n",
    "            if \"no finding\" in ground_truth_labels or contains_no_finding(ground_truth_labels, synonym_mappings):\n",
    "                exact_no_finding += 1\n",
    "            elif len(ground_truth_labels) == 1:\n",
    "                exact_one_pathology += 1\n",
    "            else:\n",
    "                exact_multiple_pathologies += 1\n",
    "        \n",
    "        # Calculate individual correct matches (Metric 3)\n",
    "        matched_pathologies = ground_truth_labels.intersection(pred_labels)\n",
    "        correct_matches += len(matched_pathologies)\n",
    "        \n",
    "        # Update metrics for matches (Metric 4)\n",
    "        for pathology in matched_pathologies:\n",
    "            if \"no finding\" in ground_truth_labels or contains_no_finding({pathology}, synonym_mappings):\n",
    "                correct_no_finding += 1\n",
    "            else:\n",
    "                correct_pathology += 1\n",
    "    \n",
    "    # Calculate metrics\n",
    "    n = len(ground_truth)\n",
    "    exact_matches_percentage = exact_matches / n\n",
    "    exact_no_finding_percentage = exact_no_finding / total_no_finding if total_no_finding > 0 else 0\n",
    "    exact_one_pathology_percentage = exact_one_pathology / total_one_pathology if total_one_pathology > 0 else 0\n",
    "    exact_multiple_pathologies_percentage = exact_multiple_pathologies / total_multiple_pathologies if total_multiple_pathologies > 0 else 0\n",
    "    \n",
    "    print(f\"Dataset Characteristics:\")\n",
    "    print(f\"No finding proportion: {total_no_finding/n:.2f}\")\n",
    "    print(f\"One pathology proportion: {total_one_pathology/n:.2f}\")\n",
    "    print(f\"Multiple pathologies proportion: {total_multiple_pathologies/n:.2f}\")\n",
    "    \n",
    "    print(f\"\\nExact Matches Characteristics:\")\n",
    "    print(f\"Exact matches: {exact_matches_percentage:.2f}\")\n",
    "    print(f\"Exact no finding: {exact_no_finding_percentage:.2f}\")\n",
    "    print(f\"Exact one pathology: {exact_one_pathology_percentage:.2f}\")\n",
    "    print(f\"Exact multiple pathologies: {exact_multiple_pathologies_percentage:.2f}\")\n",
    "    \n",
    "    total_num_of_pathologies = sum([len(pathologies) for pathologies in ground_truth.values()])\n",
    "    correct_matches_percentage = correct_matches / total_num_of_pathologies\n",
    "    correct_no_finding_percentage = correct_no_finding / total_no_finding if total_no_finding > 0 else 0\n",
    "    correct_pathology_percentage = correct_pathology / (total_num_of_pathologies - total_no_finding) if total_num_of_pathologies - total_no_finding > 0 else 0\n",
    "    \n",
    "    print(f\"\\nIndividual Pathology Characteristics:\")\n",
    "    print(f\"Correct matches: {correct_matches_percentage:.2f}\")\n",
    "    print(f\"Correct no finding: {correct_no_finding_percentage:.2f}\")\n",
    "    print(f\"Correct pathology: {correct_pathology_percentage:.2f}\")\n",
    "\n",
    "    return exact_matches / n, exact_no_finding / n, exact_one_pathology / n, exact_multiple_pathologies / n, correct_matches / total_num_of_pathologies, correct_no_finding / total_num_of_pathologies, correct_pathology / total_num_of_pathologies\n",
    "\n",
    "\n",
    "def calculate_auroc(ground_truth:Path, predictions:Path, average = \"weighted\", specific_pathologies = {}):\n",
    "    df_ground_truth = pd.read_csv(ground_truth)\n",
    "    df_predictions = pd.read_csv(predictions)\n",
    "\n",
    "    # Sort both DataFrames based on 'image_id' to align them\n",
    "    df_ground_truth = df_ground_truth.sort_values('image_id').reset_index(drop=True)\n",
    "    df_predictions = df_predictions.sort_values('image_id').reset_index(drop=True)\n",
    "\n",
    "    # Verify that the sorted DataFrames have aligned 'image_id'\n",
    "    assert np.array_equal(df_ground_truth['image_id'], df_predictions['image_id']), \"The image_ids are not aligned!\"\n",
    "\n",
    "    # Convert the ground_truth columns and predictions to tensors\n",
    "    labels = df_ground_truth.iloc[:, 1:]  # Exclude the 'image_id' column\n",
    "    predictions = df_predictions.iloc[:, 1:]  # Exclude the 'image_id' column\n",
    "\n",
    "    if len(specific_pathologies) > 0:\n",
    "        labels = labels[specific_pathologies]\n",
    "        predictions = predictions[specific_pathologies]\n",
    "\n",
    "    assert all(labels.columns == predictions.columns), \"Mismatch in columns between the labels and predictions dataframes\"\n",
    "\n",
    "    labels_tensor = torch.tensor(labels.values).int()\n",
    "    predictions_tensor = torch.tensor(predictions.values).float()\n",
    "\n",
    "    ml_auroc = MultilabelAUROC(num_labels=14,average='weighted',thresholds = None)\n",
    "    calc_value = ml_auroc(predictions_tensor, labels_tensor)\n",
    "    print(f\"\\nROC AUC: {calc_value}\")\n",
    "    return calc_value"
   ]
  },
  {
   "cell_type": "markdown",
   "metadata": {},
   "source": [
    "## CheXpert specific"
   ]
  },
  {
   "cell_type": "code",
   "execution_count": 95,
   "metadata": {},
   "outputs": [],
   "source": [
    "# CheXpert paths\n",
    "cheXpert_test_ground_truth_path = Path(\"/vol/biomedic3/bglocker/ugproj2324/nns20/datasets/CheXpert/test.csv\")\n",
    "\n",
    "layer_norm_probabilities_path = Path(\"/vol/biomedic3/bglocker/ugproj2324/nns20/cxr-agent/cheXagent/evaluation/chexpert_layer_norm_predictions_probabilities.csv\")\n",
    "q_former_probabilities_path = Path(\"/vol/biomedic3/bglocker/ugproj2324/nns20/cxr-agent/cheXagent/evaluation/chexpert_q_former_predictions_probabilities.csv\")\n",
    "\n",
    "\n",
    "cheXpert_layer_norm_predictions_path = Path(\"/vol/biomedic3/bglocker/ugproj2324/nns20/CheXagent/evaluation/CheXpert/probe_results/chexpert_layer_norm_predictions.csv\")\n",
    "cheXpert_q_former_predictions_path = Path(\"/vol/biomedic3/bglocker/ugproj2324/nns20/CheXagent/evaluation/CheXpert/probe_results/chexpert_q_former_predictions.csv\")\n",
    "cheXpert_cheXagent_predictions_path = Path(\"/vol/biomedic3/bglocker/ugproj2324/nns20/CheXagent/evaluation/CheXpert/identify_pathologies\")\n",
    "cheXpert_cheXagent_half_temperature_predictions_path = Path(\"/vol/biomedic3/bglocker/ugproj2324/nns20/CheXagent/evaluation/CheXpert/chexpert_identify_pathologies_0.5\")\n",
    "\n",
    "cheXpert_xrv_224_chex_path = Path(\"/vol/biomedic3/bglocker/ugproj2324/nns20/torchxrayvision/evaluations/CheXpert_evaluation_results/test_set/xrv_224_chex.txt\")\n",
    "cheXpert_xrv_224_path = Path(\"/vol/biomedic3/bglocker/ugproj2324/nns20/torchxrayvision/evaluations/CheXpert_evaluation_results/test_set/xrv_224.txt\")\n",
    "cheXpert_xrv_512_path = Path(\"/vol/biomedic3/bglocker/ugproj2324/nns20/torchxrayvision/evaluations/CheXpert_evaluation_results/test_set/xrv_512.txt\")\n",
    "\n",
    "\n",
    "# CheXpert pathologies\n",
    "cheXpert_pathologies = ['No Finding','Enlarged Cardiomediastinum','Cardiomegaly','Lung Opacity',\n",
    "        'Lung Lesion','Edema','Consolidation','Pneumonia','Atelectasis','Pneumothorax',\n",
    "        'Pleural Effusion','Pleural Other','Fracture','Support Devices']"
   ]
  },
  {
   "cell_type": "code",
   "execution_count": 91,
   "metadata": {},
   "outputs": [],
   "source": [
    "cheXpert_test_ground_dict = build_image_id_to_pathology_dict(cheXpert_test_ground_truth_path,cheXpert_pathologies, gt_header = False)\n",
    "\n",
    "cheXpert_cheXagent_predictions = build_image_id_to_pathology_dict(cheXpert_cheXagent_predictions_path,cheXpert_pathologies, gt_header = False)\n",
    "cheXpert_cheXagent_half_temperature_predictions = build_image_id_to_pathology_dict(cheXpert_cheXagent_half_temperature_predictions_path,cheXpert_pathologies, gt_header = False)\n",
    "\n",
    "cheXpert_xrv_224_chex = build_image_id_to_pathology_dict(cheXpert_xrv_224_chex_path,cheXpert_pathologies, gt_header = False)\n",
    "cheXpert_xrv_224 = build_image_id_to_pathology_dict(cheXpert_xrv_224_path,cheXpert_pathologies, gt_header = False)\n",
    "cheXpert_xrv_512 = build_image_id_to_pathology_dict(cheXpert_xrv_512_path,cheXpert_pathologies, gt_header = False)"
   ]
  },
  {
   "cell_type": "code",
   "execution_count": 110,
   "metadata": {},
   "outputs": [
    {
     "name": "stdout",
     "output_type": "stream",
     "text": [
      "CheXpert Layer Norm:\n",
      "Dataset Characteristics:\n",
      "No finding proportion: 0.25\n",
      "One pathology proportion: 0.18\n",
      "Multiple pathologies proportion: 0.57\n",
      "\n",
      "Exact Matches Characteristics:\n",
      "Exact matches: 0.22\n",
      "Exact no finding: 0.61\n",
      "Exact one pathology: 0.26\n",
      "Exact multiple pathologies: 0.03\n",
      "\n",
      "Individual Pathology Characteristics:\n",
      "Correct matches: 0.54\n",
      "Correct no finding: 0.62\n",
      "Correct pathology: 0.54\n",
      "\n",
      "ROC AUC: 0.8526307940483093\n"
     ]
    }
   ],
   "source": [
    "print(\"CheXpert Layer Norm:\")\n",
    "_ = calculate_accuracy_metrics(cheXpert_test_ground_truth_path,layer_norm_probabilities_path, cheXpert_pathologies, threshold = True, threshold_val= 0.5)\n",
    "_ = calculate_auroc(cheXpert_test_ground_truth_path, layer_norm_probabilities_path)"
   ]
  },
  {
   "cell_type": "code",
   "execution_count": 111,
   "metadata": {},
   "outputs": [
    {
     "name": "stdout",
     "output_type": "stream",
     "text": [
      "CheXpert Q-Former:\n",
      "Dataset Characteristics:\n",
      "No finding proportion: 0.25\n",
      "One pathology proportion: 0.18\n",
      "Multiple pathologies proportion: 0.57\n",
      "\n",
      "Exact Matches Characteristics:\n",
      "Exact matches: 0.29\n",
      "Exact no finding: 0.90\n",
      "Exact one pathology: 0.31\n",
      "Exact multiple pathologies: 0.02\n",
      "\n",
      "Individual Pathology Characteristics:\n",
      "Correct matches: 0.44\n",
      "Correct no finding: 0.91\n",
      "Correct pathology: 0.39\n",
      "\n",
      "ROC AUC: 0.8319408893585205\n"
     ]
    }
   ],
   "source": [
    "print(\"CheXpert Q-Former:\")\n",
    "_ = calculate_accuracy_metrics(cheXpert_test_ground_truth_path,q_former_probabilities_path, cheXpert_pathologies)\n",
    "_ = calculate_auroc(cheXpert_test_ground_truth_path, q_former_probabilities_path)"
   ]
  },
  {
   "cell_type": "code",
   "execution_count": 121,
   "metadata": {},
   "outputs": [
    {
     "name": "stdout",
     "output_type": "stream",
     "text": [
      "CheXpert Q-Former:\n",
      "Dataset Characteristics:\n",
      "No finding proportion: 0.25\n",
      "One pathology proportion: 0.18\n",
      "Multiple pathologies proportion: 0.57\n",
      "\n",
      "Exact Matches Characteristics:\n",
      "Exact matches: 0.29\n",
      "Exact no finding: 0.90\n",
      "Exact one pathology: 0.31\n",
      "Exact multiple pathologies: 0.02\n",
      "\n",
      "Individual Pathology Characteristics:\n",
      "Correct matches: 0.42\n",
      "Correct no finding: 0.91\n",
      "Correct pathology: 0.37\n",
      "\n",
      "ROC AUC: 0.8319408893585205\n"
     ]
    }
   ],
   "source": [
    "print(\"CheXpert Q-Former:\")\n",
    "_ = calculate_accuracy_metrics(cheXpert_test_ground_truth_path,q_former_probabilities_path, cheXpert_pathologies, threshold = False, k = 3)\n",
    "_ = calculate_auroc(cheXpert_test_ground_truth_path, q_former_probabilities_path)"
   ]
  },
  {
   "cell_type": "code",
   "execution_count": 99,
   "metadata": {},
   "outputs": [
    {
     "name": "stdout",
     "output_type": "stream",
     "text": [
      "CheXagent:\n",
      "Dataset Characteristics:\n",
      "No finding proportion: 0.25\n",
      "One pathology proportion: 0.18\n",
      "Multiple pathologies proportion: 0.57\n",
      "\n",
      "Exact Matches Characteristics:\n",
      "Exact matches: 0.12\n",
      "Exact no finding: 0.43\n",
      "Exact one pathology: 0.06\n",
      "Exact multiple pathologies: 0.00\n",
      "\n",
      "Individual Pathology Characteristics:\n",
      "Correct matches: 0.20\n",
      "Correct no finding: 0.43\n",
      "Correct pathology: 0.18\n"
     ]
    }
   ],
   "source": [
    "print(\"CheXagent:\")\n",
    "synonym_mappings = [\n",
    "    {'no finding', 'no pathologies'}, \n",
    "    {'enlarged cardiomediastinum', 'enlarged cardiac silhouette'},\n",
    "    {'edema','pulmonary edema/hazy opacity'}\n",
    "]\n",
    "_ = calculate_accuracy_metrics(cheXpert_test_ground_truth_path,cheXpert_cheXagent_predictions, cheXpert_pathologies, synonym_mappings = synonym_mappings)"
   ]
  },
  {
   "cell_type": "code",
   "execution_count": 101,
   "metadata": {},
   "outputs": [
    {
     "name": "stdout",
     "output_type": "stream",
     "text": [
      "CheXagent Half Temperature:\n",
      "Dataset Characteristics:\n",
      "No finding proportion: 0.25\n",
      "One pathology proportion: 0.18\n",
      "Multiple pathologies proportion: 0.57\n",
      "\n",
      "Exact Matches Characteristics:\n",
      "Exact matches: 0.12\n",
      "Exact no finding: 0.43\n",
      "Exact one pathology: 0.06\n",
      "Exact multiple pathologies: 0.00\n",
      "\n",
      "Individual Pathology Characteristics:\n",
      "Correct matches: 0.20\n",
      "Correct no finding: 0.43\n",
      "Correct pathology: 0.18\n"
     ]
    }
   ],
   "source": [
    "print(\"CheXagent Half Temperature:\")\n",
    "_ = calculate_accuracy_metrics(cheXpert_test_ground_truth_path,cheXpert_cheXagent_half_temperature_predictions, cheXpert_pathologies, synonym_mappings = synonym_mappings)"
   ]
  },
  {
   "cell_type": "code",
   "execution_count": 102,
   "metadata": {},
   "outputs": [
    {
     "name": "stdout",
     "output_type": "stream",
     "text": [
      "XRV-224-CheX:\n",
      "Dataset Characteristics:\n",
      "No finding proportion: 0.25\n",
      "One pathology proportion: 0.18\n",
      "Multiple pathologies proportion: 0.57\n",
      "\n",
      "Exact Matches Characteristics:\n",
      "Exact matches: 0.07\n",
      "Exact no finding: 0.30\n",
      "Exact one pathology: 0.00\n",
      "Exact multiple pathologies: 0.00\n",
      "\n",
      "Individual Pathology Characteristics:\n",
      "Correct matches: 0.64\n",
      "Correct no finding: 0.30\n",
      "Correct pathology: 0.68\n"
     ]
    }
   ],
   "source": [
    "print(\"XRV-224-CheX:\")\n",
    "_ = calculate_accuracy_metrics(cheXpert_test_ground_truth_path,cheXpert_xrv_224_chex, cheXpert_pathologies)\n",
    "# TODO: Add AUROC calculation - first calculate the probabilitiesl"
   ]
  },
  {
   "cell_type": "code",
   "execution_count": 104,
   "metadata": {},
   "outputs": [
    {
     "name": "stdout",
     "output_type": "stream",
     "text": [
      "XRV-224:\n",
      "Dataset Characteristics:\n",
      "No finding proportion: 0.25\n",
      "One pathology proportion: 0.18\n",
      "Multiple pathologies proportion: 0.57\n",
      "\n",
      "Exact Matches Characteristics:\n",
      "Exact matches: 0.01\n",
      "Exact no finding: 0.05\n",
      "Exact one pathology: 0.00\n",
      "Exact multiple pathologies: 0.00\n",
      "\n",
      "Individual Pathology Characteristics:\n",
      "Correct matches: 0.64\n",
      "Correct no finding: 0.05\n",
      "Correct pathology: 0.70\n"
     ]
    }
   ],
   "source": [
    "print(\"XRV-224:\")\n",
    "_ = calculate_accuracy_metrics(cheXpert_test_ground_truth_path, cheXpert_xrv_224, cheXpert_pathologies)\n",
    "# TODO: Add AUROC calculation - first calculate the probabilitiesl"
   ]
  },
  {
   "cell_type": "code",
   "execution_count": 106,
   "metadata": {},
   "outputs": [
    {
     "name": "stdout",
     "output_type": "stream",
     "text": [
      "XRV-512:\n",
      "Dataset Characteristics:\n",
      "No finding proportion: 0.25\n",
      "One pathology proportion: 0.18\n",
      "Multiple pathologies proportion: 0.57\n",
      "\n",
      "Exact Matches Characteristics:\n",
      "Exact matches: 0.23\n",
      "Exact no finding: 0.94\n",
      "Exact one pathology: 0.00\n",
      "Exact multiple pathologies: 0.00\n",
      "\n",
      "Individual Pathology Characteristics:\n",
      "Correct matches: 0.11\n",
      "Correct no finding: 0.94\n",
      "Correct pathology: 0.02\n"
     ]
    }
   ],
   "source": [
    "print(\"XRV-512:\")\n",
    "_ = calculate_accuracy_metrics(cheXpert_test_ground_truth_path, cheXpert_xrv_512, cheXpert_pathologies)\n",
    "# TODO: Add AUROC calculation - first calculate the probabilitiesl"
   ]
  },
  {
   "cell_type": "markdown",
   "metadata": {},
   "source": [
    "## VinDr specific"
   ]
  },
  {
   "cell_type": "code",
   "execution_count": 16,
   "metadata": {},
   "outputs": [],
   "source": [
    "#VinDr paths\n",
    "vinDr_test_ground_truth_path = Path(\"/vol/biomedic3/bglocker/ugproj2324/nns20/datasets/VinDr-CXR/test_set_three_splits/VinDr_test_test_split_with_labels.csv\")\n",
    "vinDr_layer_norm_predictions_path = Path(\"/vol/biomedic3/bglocker/ugproj2324/nns20/CheXagent/evaluation/VinDr/probe_results/vindr_layer_norm_predictions.csv\")\n",
    "vinDr_q_former_predictions_path = Path(\"/vol/biomedic3/bglocker/ugproj2324/nns20/CheXagent/evaluation/VinDr/probe_results/vindr_q_former_predictions.csv\")\n",
    "vinDr_chexagent_predictions_path = Path(\"/vol/biomedic3/bglocker/ugproj2324/nns20/CheXagent/evaluation/VinDr/CheXagent/test_split_identify_pathologies\")\n",
    "vinDr_chexagent_predictions_half_temperature_path = Path(\"/vol/biomedic3/bglocker/ugproj2324/nns20/CheXagent/evaluation/VinDr/CheXagent/test_split_identify_pathologies_0.5\")\n",
    "vinDr_chexagent_predictions_half_temperature_path_2 = Path(\"/vol/biomedic3/bglocker/ugproj2324/nns20/CheXagent/evaluation/VinDr/CheXagent/test_split_identify_pathologies_0.5_2\")\n",
    "\n",
    "vinDr_xrv_224_chex_path = Path(\"/vol/biomedic3/bglocker/ugproj2324/nns20/torchxrayvision/evaluations/VinDr_evaluation_results/xrv_224_chex.txt\")\n",
    "vinDr_xrv_224_path = Path(\"/vol/biomedic3/bglocker/ugproj2324/nns20/torchxrayvision/evaluations/VinDr_evaluation_results/xrv_224.txt\")\n",
    "vinDr_xrv_512_path = Path(\"/vol/biomedic3/bglocker/ugproj2324/nns20/torchxrayvision/evaluations/VinDr_evaluation_results/xrv_512.txt\")\n",
    "\n",
    "\n",
    "vindr_pathologies = [\"Aortic enlargement\", \"Atelectasis\", \"Calcification\", \"Cardiomegaly\",\n",
    "            \"Clavicle fracture\", \"Consolidation\", \"Emphysema\", \"Enlarged PA\",\n",
    "            \"ILD\", \"Infiltration\", \"Lung Opacity\", \"Lung cavity\", \"Lung cyst\",\n",
    "            \"Mediastinal shift\",\"Nodule/Mass\", \"Pleural effusion\", \"Pleural thickening\",\n",
    "            \"Pneumothorax\", \"Pulmonary fibrosis\",\"Rib fracture\", \"Other lesion\",\n",
    "            \"No finding\"] \n"
   ]
  },
  {
   "cell_type": "code",
   "execution_count": 17,
   "metadata": {},
   "outputs": [],
   "source": [
    "vinDr_test_ground_truth = build_image_id_to_pathology_dict(vinDr_test_ground_truth_path, vindr_pathologies, gt_header = False)\n",
    "vinDr_layer_norm_predictions = build_image_id_to_pathology_dict(vinDr_layer_norm_predictions_path, vindr_pathologies, gt_header = False)\n",
    "vinDr_q_former_predictions = build_image_id_to_pathology_dict(vinDr_q_former_predictions_path, vindr_pathologies, gt_header = False)\n",
    "vinDr_chexagent_predictions = build_image_id_to_pathology_dict(vinDr_chexagent_predictions_path, vindr_pathologies, gt_header = False)\n",
    "vinDr_chexagent_predictions_half_temperature = build_image_id_to_pathology_dict(vinDr_chexagent_predictions_half_temperature_path, vindr_pathologies, gt_header = False)\n",
    "\n",
    "vinDr_xrv_224_chex = build_image_id_to_pathology_dict(vinDr_xrv_224_chex_path, vindr_pathologies, gt_header = False)\n",
    "vinDr_xrv_224 = build_image_id_to_pathology_dict(vinDr_xrv_224_path, vindr_pathologies, gt_header = False)\n",
    "vinDr_xrv_512 = build_image_id_to_pathology_dict(vinDr_xrv_512_path, vindr_pathologies, gt_header = False)\n"
   ]
  },
  {
   "cell_type": "code",
   "execution_count": 18,
   "metadata": {},
   "outputs": [
    {
     "name": "stdout",
     "output_type": "stream",
     "text": [
      "VinDr Layer Norm:\n",
      "Dataset Characteristics:\n",
      "No finding proportion: 0.68\n",
      "One pathology proportion: 0.09\n",
      "Multiple pathologies proportion: 0.23\n",
      "\n",
      "Exact Matches Characteristics:\n",
      "Exact matches: 0.70\n",
      "Exact no finding: 0.98\n",
      "Exact one pathology: 0.34\n",
      "Exact multiple pathologies: 0.02\n",
      "\n",
      "Individual Pathology Characteristics:\n",
      "Correct matches: 0.59\n",
      "Correct no finding: 0.99\n",
      "Correct pathology: 0.27\n"
     ]
    }
   ],
   "source": [
    "print(\"VinDr Layer Norm:\")\n",
    "_ = calculate_accuracy_metrics_prev(vinDr_test_ground_truth, vinDr_layer_norm_predictions)"
   ]
  },
  {
   "cell_type": "code",
   "execution_count": 19,
   "metadata": {},
   "outputs": [
    {
     "name": "stdout",
     "output_type": "stream",
     "text": [
      "VinDr Q-Former:\n",
      "Dataset Characteristics:\n",
      "No finding proportion: 0.68\n",
      "One pathology proportion: 0.09\n",
      "Multiple pathologies proportion: 0.23\n",
      "\n",
      "Exact Matches Characteristics:\n",
      "Exact matches: 0.71\n",
      "Exact no finding: 0.97\n",
      "Exact one pathology: 0.46\n",
      "Exact multiple pathologies: 0.03\n",
      "\n",
      "Individual Pathology Characteristics:\n",
      "Correct matches: 0.62\n",
      "Correct no finding: 0.98\n",
      "Correct pathology: 0.33\n"
     ]
    }
   ],
   "source": [
    "print(\"VinDr Q-Former:\")\n",
    "_ = calculate_accuracy_metrics_prev(vinDr_test_ground_truth, vinDr_q_former_predictions)"
   ]
  },
  {
   "cell_type": "code",
   "execution_count": 20,
   "metadata": {},
   "outputs": [
    {
     "name": "stdout",
     "output_type": "stream",
     "text": [
      "VinDr CheXagent:\n",
      "Dataset Characteristics:\n",
      "No finding proportion: 0.68\n",
      "One pathology proportion: 0.09\n",
      "Multiple pathologies proportion: 0.23\n",
      "\n",
      "Exact Matches Characteristics:\n",
      "Exact matches: 0.17\n",
      "Exact no finding: 0.25\n",
      "Exact one pathology: 0.00\n",
      "Exact multiple pathologies: 0.00\n",
      "\n",
      "Individual Pathology Characteristics:\n",
      "Correct matches: 0.14\n",
      "Correct no finding: 0.25\n",
      "Correct pathology: 0.05\n"
     ]
    }
   ],
   "source": [
    "print(\"VinDr CheXagent:\")\n",
    "synonym_mappings = [\n",
    "    {'no finding', 'no pathologies'}, \n",
    "    {'enlarged cardiomediastinum', 'enlarged cardiac silhouette'},\n",
    "    {'edema','pulmonary edema/hazy opacity'}\n",
    "]\n",
    "_ = calculate_accuracy_metrics_prev(vinDr_test_ground_truth, vinDr_chexagent_predictions, synonym_mappings)"
   ]
  },
  {
   "cell_type": "code",
   "execution_count": 21,
   "metadata": {},
   "outputs": [
    {
     "name": "stdout",
     "output_type": "stream",
     "text": [
      "VinDr CheXagent Half Temperature:\n",
      "Dataset Characteristics:\n",
      "No finding proportion: 0.68\n",
      "One pathology proportion: 0.09\n",
      "Multiple pathologies proportion: 0.23\n",
      "\n",
      "Exact Matches Characteristics:\n",
      "Exact matches: 0.13\n",
      "Exact no finding: 0.19\n",
      "Exact one pathology: 0.00\n",
      "Exact multiple pathologies: 0.00\n",
      "\n",
      "Individual Pathology Characteristics:\n",
      "Correct matches: 0.11\n",
      "Correct no finding: 0.19\n",
      "Correct pathology: 0.05\n"
     ]
    }
   ],
   "source": [
    "print(\"VinDr CheXagent Half Temperature:\")\n",
    "_ = calculate_accuracy_metrics_prev(vinDr_test_ground_truth, vinDr_chexagent_predictions_half_temperature, synonym_mappings)"
   ]
  },
  {
   "cell_type": "code",
   "execution_count": 22,
   "metadata": {},
   "outputs": [
    {
     "name": "stdout",
     "output_type": "stream",
     "text": [
      "XRV-224-CheX:\n",
      "Dataset Characteristics:\n",
      "No finding proportion: 0.68\n",
      "One pathology proportion: 0.09\n",
      "Multiple pathologies proportion: 0.23\n",
      "\n",
      "Exact Matches Characteristics:\n",
      "Exact matches: 0.33\n",
      "Exact no finding: 0.48\n",
      "Exact one pathology: 0.00\n",
      "Exact multiple pathologies: 0.00\n",
      "\n",
      "Individual Pathology Characteristics:\n",
      "Correct matches: 0.34\n",
      "Correct no finding: 0.48\n",
      "Correct pathology: 0.23\n"
     ]
    }
   ],
   "source": [
    "print(\"XRV-224-CheX:\")\n",
    "_ = calculate_accuracy_metrics_prev(vinDr_test_ground_truth, vinDr_xrv_224_chex)"
   ]
  },
  {
   "cell_type": "code",
   "execution_count": 23,
   "metadata": {},
   "outputs": [
    {
     "name": "stdout",
     "output_type": "stream",
     "text": [
      "XRV-224:\n",
      "Dataset Characteristics:\n",
      "No finding proportion: 0.68\n",
      "One pathology proportion: 0.09\n",
      "Multiple pathologies proportion: 0.23\n",
      "\n",
      "Exact Matches Characteristics:\n",
      "Exact matches: 0.13\n",
      "Exact no finding: 0.19\n",
      "Exact one pathology: 0.00\n",
      "Exact multiple pathologies: 0.00\n",
      "\n",
      "Individual Pathology Characteristics:\n",
      "Correct matches: 0.23\n",
      "Correct no finding: 0.19\n",
      "Correct pathology: 0.26\n"
     ]
    }
   ],
   "source": [
    "print(\"XRV-224:\")\n",
    "_ = calculate_accuracy_metrics_prev(vinDr_test_ground_truth, vinDr_xrv_224)"
   ]
  },
  {
   "cell_type": "code",
   "execution_count": 24,
   "metadata": {},
   "outputs": [
    {
     "name": "stdout",
     "output_type": "stream",
     "text": [
      "XRV-512:\n",
      "Dataset Characteristics:\n",
      "No finding proportion: 0.68\n",
      "One pathology proportion: 0.09\n",
      "Multiple pathologies proportion: 0.23\n",
      "\n",
      "Exact Matches Characteristics:\n",
      "Exact matches: 0.66\n",
      "Exact no finding: 0.96\n",
      "Exact one pathology: 0.05\n",
      "Exact multiple pathologies: 0.00\n",
      "\n",
      "Individual Pathology Characteristics:\n",
      "Correct matches: 0.44\n",
      "Correct no finding: 0.96\n",
      "Correct pathology: 0.01\n"
     ]
    }
   ],
   "source": [
    "print(\"XRV-512:\")\n",
    "_ = calculate_accuracy_metrics_prev(vinDr_test_ground_truth, vinDr_xrv_512)"
   ]
  },
  {
   "cell_type": "markdown",
   "metadata": {},
   "source": [
    "## Testing CheXpert models on the VinDr dataset"
   ]
  },
  {
   "cell_type": "code",
   "execution_count": 25,
   "metadata": {},
   "outputs": [],
   "source": [
    "## testing CheXpert models on VinDr data\n",
    "vinDr_by_chexpert_layer_norm_path = Path(\"/vol/biomedic3/bglocker/ugproj2324/nns20/CheXagent/evaluation/VinDr/probe_results/vindr_predictions_by_chexpert_post_layer_norm.csv\")\n",
    "vinDr_by_chexpert_layer_norm = build_image_id_to_pathology_dict(vinDr_by_chexpert_layer_norm_path, cheXpert_pathologies, gt_header = False)\n",
    "\n",
    "# ignore all pathologies not in the intersection of CheXpert and VinDr pathologies\n",
    "# lowercase both pathology sets\n",
    "cheXpert_pathologies_lower_case = {pathology.lower() for pathology in cheXpert_pathologies}\n",
    "vindr_pathologies_lower_case = {pathology.lower() for pathology in vindr_pathologies}\n",
    "intersection_pathologies = cheXpert_pathologies_lower_case.intersection(vindr_pathologies_lower_case)\n",
    "ignore_pathologies = cheXpert_pathologies_lower_case.union(vindr_pathologies_lower_case) - intersection_pathologies\n"
   ]
  },
  {
   "cell_type": "code",
   "execution_count": 26,
   "metadata": {},
   "outputs": [
    {
     "name": "stdout",
     "output_type": "stream",
     "text": [
      "VinDr by CheXpert Layer Norm on intersection of pathologies:\n",
      "Dataset Characteristics:\n",
      "No finding proportion: 0.68\n",
      "One pathology proportion: 0.17\n",
      "Multiple pathologies proportion: 0.15\n",
      "\n",
      "Exact Matches Characteristics:\n",
      "Exact matches: 0.58\n",
      "Exact no finding: 0.73\n",
      "Exact one pathology: 0.30\n",
      "Exact multiple pathologies: 0.24\n",
      "\n",
      "Individual Pathology Characteristics:\n",
      "Correct matches: 0.68\n",
      "Correct no finding: 0.77\n",
      "Correct pathology: 0.46\n"
     ]
    }
   ],
   "source": [
    "print(\"VinDr by CheXpert Layer Norm on intersection of pathologies:\")\n",
    "_ = calculate_accuracy_metrics_prev(vinDr_test_ground_truth, vinDr_by_chexpert_layer_norm, ignore_pathologies = ignore_pathologies)"
   ]
  },
  {
   "cell_type": "code",
   "execution_count": 27,
   "metadata": {},
   "outputs": [
    {
     "name": "stdout",
     "output_type": "stream",
     "text": [
      "VinDr by CheXpert Layer Norm on intersection of pathologies with synonyms:\n",
      "Dataset Characteristics:\n",
      "No finding proportion: 0.68\n",
      "One pathology proportion: 0.17\n",
      "Multiple pathologies proportion: 0.15\n",
      "\n",
      "Exact Matches Characteristics:\n",
      "Exact matches: 0.58\n",
      "Exact no finding: 0.73\n",
      "Exact one pathology: 0.30\n",
      "Exact multiple pathologies: 0.24\n",
      "\n",
      "Individual Pathology Characteristics:\n",
      "Correct matches: 0.68\n",
      "Correct no finding: 0.77\n",
      "Correct pathology: 0.46\n"
     ]
    }
   ],
   "source": [
    "synonym_mappings_vindr_chexpert = [\n",
    "    {'enlarged cardiomediastinum' , 'aortic enlargement'},\n",
    "    {'fracture', 'clavicle fracture', 'rib fracture'},\n",
    "    {'pleural other', 'pleural thickening'}   \n",
    "]\n",
    "# update the ignore pathologies to exclude the synonyms\n",
    "ignore_pathologies_without_synonyms = ignore_pathologies - set.union(*[set(synonyms) for synonyms in synonym_mappings_vindr_chexpert])\n",
    "\n",
    "print(\"VinDr by CheXpert Layer Norm on intersection of pathologies with synonyms:\")\n",
    "_ = calculate_accuracy_metrics_prev(vinDr_test_ground_truth, vinDr_by_chexpert_layer_norm, ignore_pathologies = ignore_pathologies_without_synonyms, synonym_mappings = synonym_mappings_vindr_chexpert)\n"
   ]
  },
  {
   "cell_type": "markdown",
   "metadata": {},
   "source": [
    "## Testing VinDr models on CheXpert"
   ]
  },
  {
   "cell_type": "code",
   "execution_count": 28,
   "metadata": {},
   "outputs": [
    {
     "name": "stdout",
     "output_type": "stream",
     "text": [
      "CheXpert by VinDr Layer Norm on intersection of pathologies:\n",
      "Dataset Characteristics:\n",
      "No finding proportion: 0.25\n",
      "One pathology proportion: 0.14\n",
      "Multiple pathologies proportion: 0.62\n",
      "\n",
      "Exact Matches Characteristics:\n",
      "Exact matches: 0.19\n",
      "Exact no finding: 0.65\n",
      "Exact one pathology: 0.04\n",
      "Exact multiple pathologies: 0.05\n",
      "\n",
      "Individual Pathology Characteristics:\n",
      "Correct matches: 0.59\n",
      "Correct no finding: 0.69\n",
      "Correct pathology: 0.57\n"
     ]
    }
   ],
   "source": [
    "cheXpert_by_vindr_layer_norm_path = Path(\"/vol/biomedic3/bglocker/ugproj2324/nns20/CheXagent/evaluation/CheXpert/probe_results/chexpert_predictions_by_vindr_model.csv\")\n",
    "cheXpert_by_vindr_layer_norm = build_image_id_to_pathology_dict(cheXpert_by_vindr_layer_norm_path, vindr_pathologies, gt_header = False)\n",
    "\n",
    "print(\"CheXpert by VinDr Layer Norm on intersection of pathologies:\")\n",
    "_ = calculate_accuracy_metrics_prev(cheXpert_test_ground_dict, cheXpert_by_vindr_layer_norm, ignore_pathologies = ignore_pathologies_without_synonyms, synonym_mappings = synonym_mappings_vindr_chexpert)"
   ]
  },
  {
   "cell_type": "markdown",
   "metadata": {},
   "source": [
    "## CheXbench Evaluations "
   ]
  },
  {
   "cell_type": "code",
   "execution_count": 29,
   "metadata": {},
   "outputs": [
    {
     "name": "stdout",
     "output_type": "stream",
     "text": [
      "Image Text Reasoning Task: ['evaluation', 'CheXbench', 'openi_itr_responses_answer_guidance']\n",
      "Left vs Right: 0.54\n",
      "Mild vs Severe: 0.60\n",
      "Upper vs Lower: 0.66\n",
      "Overall: 0.56\n",
      "Image Text Reasoning Task: ['evaluation', 'CheXbench', 'openi_itr_responses_unguided']\n",
      "Left vs Right: 0.56\n",
      "Mild vs Severe: 0.78\n",
      "Upper vs Lower: 0.66\n",
      "Overall: 0.60\n"
     ]
    }
   ],
   "source": [
    "image_text_reasoning_evaluation_path = Path(\"/vol/biomedic3/bglocker/ugproj2324/nns20/CheXagent/evaluation/CheXbench/openi_itr_responses_answer_guidance\")\n",
    "image_text_reasoning_evaluation_path_unguided = Path(\"/vol/biomedic3/bglocker/ugproj2324/nns20/CheXagent/evaluation/CheXbench/openi_itr_responses_unguided\")\n",
    "image_text_reasoning_gt = Path('/vol/biomedic3/bglocker/ugproj2324/nns20/datasets/CheXbench/image_text_reasoning_task')\n",
    "\n",
    "def eval_cheXbench_image_text_reasoning(gt_path, pred_path, gt_header = True, pred_header = True):\n",
    "    image_text_reasoning_predictions = build_image_id_to_pathology_dict(pred_path, cheXpert_pathologies, gt_header = gt_header, pathologies_check= False)\n",
    "\n",
    "    total_left_vs_right = 0\n",
    "    total_mild_vs_severe = 0\n",
    "    total_upper_vs_lower = 0\n",
    "\n",
    "    correct_left_vs_right = 0\n",
    "    correct_mild_vs_severe = 0\n",
    "    correct_upper_vs_lower = 0\n",
    "\n",
    "    with open(gt_path, 'r') as f:\n",
    "        if gt_header:\n",
    "            f.readline() # skip header\n",
    "\n",
    "        for line in f.readlines():\n",
    "            components = line.split(',')\n",
    "            image_id = components[2]\n",
    "            correct_option = components[4]\n",
    "            option_0 = components[5]\n",
    "            option_1 = components[6]\n",
    "\n",
    "            gt = option_0 if correct_option == 0 else option_1\n",
    "\n",
    "            possibilities = image_text_reasoning_predictions.get(image_id)\n",
    "            correct = any([gt in possibility for possibility in possibilities])\n",
    "\n",
    "            if (\"left\" in option_0 and \"right\" in option_1) or (\"right\" in option_0 and \"left\" in option_1):\n",
    "                total_left_vs_right += 1\n",
    "                correct_left_vs_right = correct_left_vs_right + 1 if correct else correct_left_vs_right\n",
    "\n",
    "            elif (\"mild\" in option_0 and \"severe\" in option_1) or (\"severe\" in option_0 and \"mild\" in option_1):\n",
    "                total_mild_vs_severe += 1\n",
    "                correct_mild_vs_severe = correct_mild_vs_severe + 1 if correct else correct_mild_vs_severe\n",
    "            \n",
    "            else:\n",
    "                total_upper_vs_lower += 1\n",
    "                correct_upper_vs_lower = correct_upper_vs_lower + 1 if correct else correct_upper_vs_lower\n",
    "            \n",
    "    print(f\"Image Text Reasoning Task: {str(pred_path).split('/')[-3:]}\")\n",
    "    print(f\"Left vs Right: {correct_left_vs_right/total_left_vs_right:.2f}\")\n",
    "    print(f\"Mild vs Severe: {correct_mild_vs_severe/total_mild_vs_severe:.2f}\")\n",
    "    print(f\"Upper vs Lower: {correct_upper_vs_lower/total_upper_vs_lower:.2f}\")\n",
    "\n",
    "    print(f\"Overall: {(correct_left_vs_right + correct_mild_vs_severe + correct_upper_vs_lower)/(total_left_vs_right + total_mild_vs_severe + total_upper_vs_lower):.2f}\")\n",
    "\n",
    "eval_cheXbench_image_text_reasoning(image_text_reasoning_gt, image_text_reasoning_evaluation_path)\n",
    "eval_cheXbench_image_text_reasoning(image_text_reasoning_gt, image_text_reasoning_evaluation_path_unguided)"
   ]
  },
  {
   "cell_type": "code",
   "execution_count": null,
   "metadata": {},
   "outputs": [],
   "source": []
  }
 ],
 "metadata": {
  "kernelspec": {
   "display_name": ".venv",
   "language": "python",
   "name": "python3"
  },
  "language_info": {
   "codemirror_mode": {
    "name": "ipython",
    "version": 3
   },
   "file_extension": ".py",
   "mimetype": "text/x-python",
   "name": "python",
   "nbconvert_exporter": "python",
   "pygments_lexer": "ipython3",
   "version": "3.10.12"
  }
 },
 "nbformat": 4,
 "nbformat_minor": 2
}
