{
 "cells": [
  {
   "cell_type": "code",
   "execution_count": null,
   "metadata": {},
   "outputs": [],
   "source": [
    "import io\n",
    "from PIL import Image\n",
    "from pathlib import Path\n",
    "import os\n",
    "import torch\n",
    "from sklearn.manifold import TSNE\n",
    "import pickle\n",
    "import numpy as np\n",
    "import matplotlib.pyplot as plt\n",
    "os.environ['HF_HOME'] = '/vol/biomedic3/bglocker/ugproj2324/nns20/CheXagent/.cache' ## THIS HAS TO BE BEFORE YOU IMPORT TRANSFORMERS\n",
    "from transformers import AutoProcessor, AutoModelForCausalLM, GenerationConfig"
   ]
  },
  {
   "cell_type": "code",
   "execution_count": null,
   "metadata": {},
   "outputs": [
    {
     "data": {
      "application/vnd.jupyter.widget-view+json": {
       "model_id": "011f7f5f19404282a5a93486aa67a6e7",
       "version_major": 2,
       "version_minor": 0
      },
      "text/plain": [
       "Loading checkpoint shards:   0%|          | 0/7 [00:00<?, ?it/s]"
      ]
     },
     "metadata": {},
     "output_type": "display_data"
    }
   ],
   "source": [
    "def setup_model() -> tuple:\n",
    "    device = \"cuda\"\n",
    "    dtype = torch.float16\n",
    "\n",
    "    processor = AutoProcessor.from_pretrained(\"StanfordAIMI/CheXagent-8b\", trust_remote_code=True)\n",
    "    model = AutoModelForCausalLM.from_pretrained(\n",
    "        \"StanfordAIMI/CheXagent-8b\", torch_dtype=dtype, trust_remote_code=True\n",
    "    ).to(device)\n",
    "    generation_config = GenerationConfig.from_pretrained(\"StanfordAIMI/CheXagent-8b\")\n",
    "\n",
    "    return processor, model, device, dtype, generation_config\n",
    "\n",
    "processor, model, device, dtype, generation_config = setup_model()"
   ]
  },
  {
   "cell_type": "code",
   "execution_count": 15,
   "metadata": {},
   "outputs": [],
   "source": [
    "class EmbeddingCollector:\n",
    "\n",
    "    def __init__ (self, image_folder, processor, model, generation_config):\n",
    "        self.image_folder = image_folder\n",
    "        self.processor = processor\n",
    "        self.model = model\n",
    "        self.generation_config = generation_config\n",
    "\n",
    "        self.patch_embeddings_output = None\n",
    "        self.post_layer_norm_output = None\n",
    "        self.q_former_output = None\n",
    "        self.language_projection_output = None\n",
    "        self.embeddings_dict = {}\n",
    "\n",
    "    def patch_embedding_hook(self, module, input, output):\n",
    "        output = output.cpu().detach()  # Assuming you want to move data to CPU for analysis\n",
    "        self.patch_embeddings_output = output\n",
    "\n",
    "        \n",
    "    def post_layer_norm_hook(self,module, input, output):\n",
    "        \"\"\"Function to be called by the hook for the post layer norm layer.\"\"\"\n",
    "        output = output.cpu().detach()  # Assuming you want to move data to CPU for analysis\n",
    "        self.post_layer_norm_output = output\n",
    "\n",
    "    \n",
    "    def language_projection_hook(self, module, input, output):\n",
    "        \"\"\"Function to be called by the hook for the language projection layer.\"\"\"\n",
    "        input = input[0].cpu().detach()\n",
    "        self.q_former_output = input\n",
    "\n",
    "        output = output.cpu().detach()\n",
    "        self.language_projection_output = output\n",
    "        \n",
    "\n",
    "    def generate_with_forward_hooks(self,image_path, prompt, processor, model, device, dtype, generation_config):\n",
    "        images = Image.open(image_path).convert(\"RGB\")\n",
    "\n",
    "        # VinDR-specific convert image_id to a string\n",
    "        # image_id_string = str(image_path).split(\"/\")[-1].split(\".\")[0]\n",
    "\n",
    "        # CheXpert-Train-specific \n",
    "        image_id_string = (\"/\").join(str(image_path).split(\"/\")[8:]) # 8 for valid/train , 10 for test\n",
    "        # register hooks\n",
    "        patch_embeddings = model.vision_model.embeddings.patch_embedding.register_forward_hook(self.patch_embedding_hook)\n",
    "        post_layer_norm = model.vision_model.post_layernorm.register_forward_hook(self.post_layer_norm_hook)\n",
    "        language_projection = model.language_projection.register_forward_hook(self.language_projection_hook)\n",
    "        \n",
    "        # complete a forward pass \n",
    "        inputs = processor(\n",
    "            images=images, text=f\" USER: <s>{prompt} ASSISTANT: <s>\", return_tensors=\"pt\"\n",
    "        ).to(device=device, dtype=dtype)\n",
    "        \n",
    "        output = model.generate(**inputs, generation_config=generation_config)\n",
    "        response = None\n",
    "\n",
    "        if output is not None: # output is none when disable language model\n",
    "            output = output[0]\n",
    "            response = processor.tokenizer.decode(output, skip_special_tokens=True)\n",
    "\n",
    "        self.embeddings_dict[image_id_string] = {\n",
    "            'patch_embeddings': self.patch_embeddings_output.cpu().numpy(),\n",
    "            'post_layer_norm': self.post_layer_norm_output.cpu().numpy(),\n",
    "            'q_former': self.q_former_output.cpu().numpy(),\n",
    "            'language_projection': self.language_projection_output.cpu().numpy(),\n",
    "        }\n",
    "\n",
    "        # remove hooks\n",
    "        patch_embeddings.remove()\n",
    "        post_layer_norm.remove()\n",
    "        language_projection.remove()\n",
    "\n",
    "        return response\n",
    "    \n",
    "    \n",
    "    def save_embeddings_dict_to_pickle(self, output_path):\n",
    "        with open(output_path, 'wb') as handle:\n",
    "            pickle.dump(self.embeddings_dict, handle, protocol=pickle.HIGHEST_PROTOCOL)"
   ]
  },
  {
   "cell_type": "code",
   "execution_count": 16,
   "metadata": {},
   "outputs": [],
   "source": [
    "embeddings_collector = EmbeddingCollector(\"images\", processor, model, generation_config)"
   ]
  },
  {
   "cell_type": "code",
   "execution_count": 17,
   "metadata": {},
   "outputs": [
    {
     "name": "stdout",
     "output_type": "stream",
     "text": [
      "Collecting image 0\n",
      "Collecting image 1000\n",
      "Collecting image 2000\n",
      "Collecting image 3000\n",
      "Collecting image 4000\n"
     ]
    }
   ],
   "source": [
    "# for training images\n",
    "cheXpert_train_5000_csv_path = Path(\"/vol/biomedic3/bglocker/ugproj2324/nns20/datasets/CheXpert/train_sample_paths/5,000.csv\")\n",
    "cheXpert_train_5002_10001_csv_path = Path(\"/vol/biomedic3/bglocker/ugproj2324/nns20/datasets/CheXpert/train_sample_paths/10,000.csv\")\n",
    "cheXpert_small_path = Path(\"/vol/biodata/data/chest_xray/CheXpert-v1.0-small/CheXpert-v1.0-small/\")\n",
    "\n",
    "chexpert_valid_csv_path = Path(\"/vol/biodata/data/chest_xray/CheXpert-v1.0-small/CheXpert-v1.0-small/valid.csv\")\n",
    "chexpert_valid_path = Path(\"/vol/biodata/data/chest_xray/CheXpert-v1.0-small/\")\n",
    "\n",
    "chexpert_test_csv_path = Path(\"/vol/biodata/data/chest_xray/CheXpert-v1.0-small/CheXpert-v1.0-small/test.csv\")\n",
    "chexpert_test_path = Path(\"/vol/biomedic3/bglocker/ugproj2324/nns20/datasets/CheXpert/small/\")\n",
    "\n",
    "\n",
    "# chexpert_\n",
    "\n",
    "with open(cheXpert_train_5002_10001_csv_path, 'r') as f:\n",
    "    lines = f.readlines()\n",
    "    # start from line 5002 inclusive and end at 10001 exclusive\n",
    "    for i, line in enumerate(lines[5002:]):\n",
    "        if i % 1000 == 0:\n",
    "            print(f\"Collecting image {i}\")\n",
    "\n",
    "        image_path = line.split(\",\")[0]\n",
    "        image_path = cheXpert_small_path / image_path\n",
    "        \n",
    "        prompt = \"Describe the findings\"\n",
    "        response = embeddings_collector.generate_with_forward_hooks(image_path, prompt, processor, model, device, dtype, generation_config)\n",
    "        # print(response)\n",
    "\n",
    "embeddings_collector.save_embeddings_dict_to_pickle(\"chexpert_train_5002_10001_dict.pkl\")"
   ]
  },
  {
   "cell_type": "code",
   "execution_count": 12,
   "metadata": {},
   "outputs": [],
   "source": [
    "with open(\"/vol/biomedic3/bglocker/ugproj2324/nns20/CheXagent/model_inspection/embeddings/CheXpert-small/embeddings_only_dict/chexpert_5000_train_dict.pkl\", 'rb') as handle:\n",
    "    embeddings_dict = pickle.load(handle)"
   ]
  },
  {
   "cell_type": "code",
   "execution_count": null,
   "metadata": {},
   "outputs": [],
   "source": [
    "# VINDR-SPECIFIC\n",
    "\n",
    "# required_image_id_path = Path('/vol/biomedic3/bglocker/ugproj2324/nns20/datasets/VinDr-CXR/image_text_reasoning_datasets/train_pathology_left_or_right_unaninmous_agreement_random_radiologist')\n",
    "# vindr_dir_train_path = Path('/vol/biodata/data/chest_xray/VinDr-CXR/1.0.0_png_512/raw/train/')\n",
    "# with open(required_image_id_path, 'r') as f:\n",
    "#     f.readline() # skip header    \n",
    "#     # image_ids = f.readlines()\n",
    "#     image_ids = {line.split(',')[0].strip() for line in f.readlines()}\n",
    "#     for image_id in image_ids:\n",
    "#         image_path = vindr_dir_train_path / f'{image_id}.png'\n",
    "    \n",
    "#         prompt = \"Describe the findings\"\n",
    "#         embeddings_collector.generate_with_forward_hooks(image_path, prompt, processor, model, device, dtype, generation_config)\n",
    "   \n",
    "\n",
    "# embeddings_collector.save_embeddings_dict_to_pickle('train_pathology_unanimous_agreement_random_radiologist.pkl')"
   ]
  }
 ],
 "metadata": {
  "kernelspec": {
   "display_name": ".venv",
   "language": "python",
   "name": "python3"
  },
  "language_info": {
   "codemirror_mode": {
    "name": "ipython",
    "version": 3
   },
   "file_extension": ".py",
   "mimetype": "text/x-python",
   "name": "python",
   "nbconvert_exporter": "python",
   "pygments_lexer": "ipython3",
   "version": "3.10.12"
  }
 },
 "nbformat": 4,
 "nbformat_minor": 2
}
