{
 "cells": [
  {
   "cell_type": "code",
   "execution_count": 1,
   "metadata": {},
   "outputs": [],
   "source": [
    "import os\n",
    "os.environ['HF_HOME'] = '/vol/biomedic3/bglocker/ugproj2324/nns20/cxr-agent/.hf_cache' ## THIS HAS TO BE BEFORE YOU IMPORT TRANSFORMERS\n",
    "\n",
    "import transformers\n",
    "import torch\n",
    "\n",
    "from abc import ABC, abstractmethod\n",
    "from pathlib import Path\n",
    "from typing import Optional\n",
    "from my_secrets import LLAMA3_INSTRUCT_ACCESS_TOKEN\n",
    "from agent_utils import select_best_gpu\n",
    "\n",
    "from pathology_detector import PathologyDetector, CheXagentVisionTransformerPathologyDetector\n",
    "from pathology_sets import Pathologies\n",
    "\n",
    "from phrase_grounder import PhraseGrounder, BioVilTPhraseGrounder\n",
    "\n",
    "class GenerationEngine(ABC):\n",
    "    @abstractmethod\n",
    "    def generate_report(self, image_path: Path, prompt: Optional[str], output_dir: Optional[str]) -> str:\n",
    "        pass\n",
    "\n",
    "\n",
    "class Llama3Generation(GenerationEngine):\n",
    "\n",
    "    def __init__(self):\n",
    "        self.model_id = \"meta-llama/Meta-Llama-3-8B-Instruct\"\n",
    "\n",
    "        self.pipeline = transformers.pipeline(\n",
    "            \"text-generation\",\n",
    "            model=self.model_id,\n",
    "            model_kwargs={\"torch_dtype\": torch.bfloat16},\n",
    "            device_map= select_best_gpu() ,\n",
    "            token=LLAMA3_INSTRUCT_ACCESS_TOKEN,\n",
    "        )\n",
    "\n",
    "    def generate_report(self, image_path: Path, pathology_detector: PathologyDetector, phrase_grounder: Optional[PhraseGrounder] = None,  prompt: Optional[str] = \"Write up a findings section based on these observations\") -> str:\n",
    "        return \"TODO\""
   ]
  },
  {
   "cell_type": "code",
   "execution_count": 2,
   "metadata": {},
   "outputs": [
    {
     "name": "stdout",
     "output_type": "stream",
     "text": [
      "GPU 0: NVIDIA RTX 6000 Ada Generation, Free memory: 46315 MB\n",
      "GPU 1: NVIDIA RTX 6000 Ada Generation, Free memory: 48643 MB\n",
      "Selecting GPU 1 with 48643 MB free memory, Device = cuda:1\n"
     ]
    },
    {
     "data": {
      "application/vnd.jupyter.widget-view+json": {
       "model_id": "01cceebfcbbb448e970bffeba25278e8",
       "version_major": 2,
       "version_minor": 0
      },
      "text/plain": [
       "Loading checkpoint shards:   0%|          | 0/4 [00:00<?, ?it/s]"
      ]
     },
     "metadata": {},
     "output_type": "display_data"
    },
    {
     "name": "stderr",
     "output_type": "stream",
     "text": [
      "Special tokens have been added in the vocabulary, make sure the associated word embeddings are fine-tuned or trained.\n"
     ]
    },
    {
     "name": "stdout",
     "output_type": "stream",
     "text": [
      "GPU 0: NVIDIA RTX 6000 Ada Generation, Free memory: 46315 MB\n",
      "GPU 1: NVIDIA RTX 6000 Ada Generation, Free memory: 32769 MB\n",
      "Selecting GPU 0 with 46315 MB free memory, Device = cuda:0\n"
     ]
    },
    {
     "data": {
      "application/vnd.jupyter.widget-view+json": {
       "model_id": "f0c0aee6cc6e4dd78662a20a3e77a6d4",
       "version_major": 2,
       "version_minor": 0
      },
      "text/plain": [
       "Loading checkpoint shards:   0%|          | 0/7 [00:00<?, ?it/s]"
      ]
     },
     "metadata": {},
     "output_type": "display_data"
    },
    {
     "name": "stdout",
     "output_type": "stream",
     "text": [
      "CheXagent Model loaded\n"
     ]
    },
    {
     "name": "stderr",
     "output_type": "stream",
     "text": [
      "The tokenizer class you load from this checkpoint is not the same type as the class this function is called from. It may result in unexpected tokenization. \n",
      "The tokenizer class you load from this checkpoint is 'BertTokenizer'. \n",
      "The class this function is called from is 'CXRBertTokenizer'.\n",
      "You are using a model of type bert to instantiate a model of type cxr-bert. This is not supported for all configurations of models and can yield errors.\n",
      "/vol/biomedic3/bglocker/ugproj2324/nns20/cxr-agent/.venv/lib/python3.10/site-packages/torch/_utils.py:831: UserWarning: TypedStorage is deprecated. It will be removed in the future and UntypedStorage will be the only storage class. This should only matter to you if you are using storages directly.  To access UntypedStorage directly, use tensor.untyped_storage() instead of tensor.storage()\n",
      "  return self.fget.__get__(instance, owner)()\n",
      "Some weights of the model checkpoint at microsoft/BiomedVLP-BioViL-T were not used when initializing CXRBertModel: ['bert.pooler.dense.bias', 'bert.pooler.dense.weight']\n",
      "- This IS expected if you are initializing CXRBertModel from the checkpoint of a model trained on another task or with another architecture (e.g. initializing a BertForSequenceClassification model from a BertForPreTraining model).\n",
      "- This IS NOT expected if you are initializing CXRBertModel from the checkpoint of a model that you expect to be exactly identical (initializing a BertForSequenceClassification model from a BertForSequenceClassification model).\n"
     ]
    },
    {
     "name": "stdout",
     "output_type": "stream",
     "text": [
      "Using downloaded and verified file: /tmp/biovil_t_image_model_proj_size_128.pt\n",
      "GPU 0: NVIDIA RTX 6000 Ada Generation, Free memory: 29063 MB\n",
      "GPU 1: NVIDIA RTX 6000 Ada Generation, Free memory: 32769 MB\n",
      "Selecting GPU 1 with 32769 MB free memory, Device = cuda:1\n"
     ]
    }
   ],
   "source": [
    "l3 = Llama3Generation()\n",
    "pathology_detector = CheXagentVisionTransformerPathologyDetector(pathologies=Pathologies.CHEXPERT)\n",
    "phrase_grounder = BioVilTPhraseGrounder(detection_threshold=0.5)"
   ]
  },
  {
   "cell_type": "code",
   "execution_count": 84,
   "metadata": {},
   "outputs": [],
   "source": [
    "def contextualise_model(generation_engine: GenerationEngine, image_path: Path, pathology_detector: PathologyDetector, phrase_grounder: Optional[PhraseGrounder] = None) -> str:\n",
    "    \n",
    "    pathology_detection_threshold = 0.5\n",
    "\n",
    "    if pathology_detector is not None:\n",
    "        pathology_confidences = pathology_detector.detect_pathologies(image_path, threshold = pathology_detection_threshold)\n",
    "        print(pathology_confidences)\n",
    "    else:\n",
    "        return RuntimeError(\"Pathology detector not provided\")\n",
    "    \n",
    "    #### PROMPT PIPELINE ###\n",
    "    \n",
    "    system_prompt = \"\"\"You are a helpful assistant, specialising in radiology and interpreting Chest X-rays. Please answer CONCISELY and professionally as a radiologist would. You should not be confident unless the data is confident. Use language that reflects the confidence of the data.\"\"\"\n",
    "\n",
    "    # TODO: have list of prompts (pathology, phrase_grounder, etc) and build final user prompt by joining list with \\n\n",
    "\n",
    "    if phrase_grounder is not None:\n",
    "        # get list of pathologies detected\n",
    "        pathologies = [pathology for pathology, confidence in pathology_confidences.items() if confidence > pathology_detection_threshold]\n",
    "        grounded_pathologies_confidences = phrase_grounder.get_pathology_lateral_position(image_path, pathologies)\n",
    "        print(grounded_pathologies_confidences)\n",
    "        if len(grounded_pathologies_confidences) == 0:\n",
    "            grounded_pathologies_confidences = \"No lateral positions could be confidently determined for any pathologies detected.\"\n",
    "\n",
    "        image_context_prompt = f\"\"\"\n",
    "        You are being provided with data derived from analyzing a chest X-ray, which includes findings on potential pathologies alongside their confidence levels and, separately, possible lateral locations of these pathologies with their own confidence scores.\n",
    "        This information comes from two specialized diagnostic tools.\n",
    "        It's important to recognize how to interpret these datasets together when responding to queries:\n",
    "\n",
    "        Pathology Detection with Confidence Scores:\n",
    "        {pathology_confidences}\n",
    "\n",
    "        Phrase Grounding Locations with Confidence Scores:\n",
    "        {grounded_pathologies_confidences}\n",
    "\n",
    "        This separate dataset provides potential lateral locations for some of the detected pathologies, each with its own confidence score, indicating the model's certainty about each pathology's location.\n",
    "        For instance, left Pleural Effusion is listed with a confidence score of 0.53, suggesting the location of Pleural Effusion to be on the left side with moderate confidence.\n",
    "        \n",
    "        When you interact with end users, remember:\n",
    "\n",
    "        - A pathology and its lateral location (e.g., Pleural Effusion and left Pleural Effusion) are part of the same finding. The location attribute is an additional detail about where the pathology is likely found, not an indicator of a separate pathology. \n",
    "        - Synthesize the pathology detection and localization data. DO NOT TALK ABOUT THEM SEPERATELY. Here is a model example, \"Highly likely there is Pleural Effusion (detection confidence: 0.80), and it is possibly on the left side (localisation confidence: 0.53).\"\n",
    "        - Confidence scores from the pathology detection and phrase grounding tools are not directly comparable. They serve as indicators of confidence within their respective contexts of pathology detection and localisation.\n",
    "        - A missing lateral location does not imply the absence of a pathology; it indicates the localisation could not be confidently determined.\n",
    "        - If there is any discrepancy between the pathology detection and phrase grounding tools, detection data takes precedence as it more reliably identifies pathologies.\n",
    "\n",
    "        It is important to factor medical knowledge and the specifics of each case, if supplied, into your responses. For example, pathologies located on both sides are called bilateral. Heart related observations are usually on the left/ middle.\n",
    "        \n",
    "        This understanding is crucial for accurately processing and responding to queries on the chest X-ray analysis. Structure your answers based on confidence and pathologies.\n",
    "        The end-user will now interact with you.\n",
    "        \"\"\"\n",
    "\n",
    "    return system_prompt, image_context_prompt\n",
    "\n",
    "def generate_model_output(generation_engine: GenerationEngine, system_prompt: str , image_context_prompt: str, user_prompt:Optional[str] = None):\n",
    "\n",
    "    def format_output(output_text: str) -> str:\n",
    "        return \"\\n\".join(output_text.split(\". \"))  # print output text with each sentence on a new line\n",
    "    \n",
    "    if user_prompt is not None:\n",
    "        messages = [\n",
    "            {\"role\": \"system\", \"content\": system_prompt},\n",
    "            {\"role\": \"user\", \"content\": image_context_prompt +\"\\n\" + user_prompt},\n",
    "        ]\n",
    "\n",
    "        prompt = generation_engine.pipeline.tokenizer.apply_chat_template(\n",
    "                messages, \n",
    "                tokenize=False, \n",
    "                add_generation_prompt=True\n",
    "        )\n",
    "\n",
    "        terminators = [\n",
    "            generation_engine.pipeline.tokenizer.eos_token_id,\n",
    "            generation_engine.pipeline.tokenizer.convert_tokens_to_ids(\"<|eot_id|>\")\n",
    "        ]\n",
    "\n",
    "        outputs = generation_engine.pipeline(\n",
    "            prompt,\n",
    "            max_new_tokens=512,\n",
    "            eos_token_id=terminators,\n",
    "            do_sample=True,\n",
    "            temperature=0.6,\n",
    "            top_p=0.9,\n",
    "        )\n",
    "        output_text = outputs[0][\"generated_text\"][len(prompt):]\n",
    "        print(format_output(output_text))\n",
    "        return outputs[0][\"generated_text\"][len(prompt):]\n",
    "    \n",
    "    else:\n",
    "        # setup chat loop\n",
    "        chat_history = [\n",
    "            {\"role\": \"system\", \"content\": system_prompt},\n",
    "            {\"role\": \"user\", \"content\": image_context_prompt},\n",
    "        ]\n",
    "\n",
    "        user_prompt = \"\"\n",
    "        while user_prompt != \"exit\":\n",
    "            # user_query = input(\"User: \")\n",
    "            # messages.append({\"role\": \"user\", \"content\": user_query})\n",
    "            prompt = generation_engine.pipeline.tokenizer.apply_chat_template(\n",
    "                chat_history, \n",
    "                tokenize=False, \n",
    "                add_generation_prompt=True\n",
    "            )\n",
    "\n",
    "            terminators = [\n",
    "                generation_engine.pipeline.tokenizer.eos_token_id,\n",
    "                generation_engine.pipeline.tokenizer.convert_tokens_to_ids(\"<|eot_id|>\")\n",
    "            ]\n",
    "\n",
    "            outputs = generation_engine.pipeline(\n",
    "                prompt,\n",
    "                max_new_tokens=512,\n",
    "                eos_token_id=terminators,\n",
    "                do_sample=True,\n",
    "                temperature=0.6,\n",
    "                top_p=0.9,\n",
    "            )\n",
    "            output_text = outputs[0][\"generated_text\"][len(prompt):]\n",
    "            chat_history.append({\"role\": \"assistant\", \"content\": output_text})\n",
    "            print(format_output(output_text))\n",
    "\n",
    "            user_prompt = input(\"User: \")\n",
    "            print(f\"\\n{user_prompt}\")\n",
    "            chat_history.append({\"role\": \"user\", \"content\": user_prompt})\n",
    "\n",
    "        "
   ]
  },
  {
   "cell_type": "code",
   "execution_count": null,
   "metadata": {},
   "outputs": [],
   "source": [
    "chexpert_test_csv_path = Path(\"/vol/biodata/data/chest_xray/CheXpert-v1.0-small/CheXpert-v1.0-small/test.csv\")\n",
    "chexpert_test_path = Path(\"/vol/biomedic3/bglocker/ugproj2324/nns20/datasets/CheXpert/small/\")\n",
    "\n",
    "with open(chexpert_test_csv_path, 'r') as f:\n",
    "    lines = f.readlines()\n",
    "    header = lines[0].split(\",\")[1:]\n",
    "    # print(header)\n",
    "    for i, line in enumerate(lines[10:]):\n",
    "        if i % 1000 == 0:\n",
    "            print(f\"Collecting image {i}\")\n",
    "\n",
    "        image_path = line.split(\",\")[0]\n",
    "        print(f\"{image_path=}\")\n",
    "        image_path = chexpert_test_path / image_path\n",
    "\n",
    "        system_prompt, image_context_prompt = contextualise_model(l3,image_path,pathology_detector=pathology_detector, phrase_grounder=phrase_grounder)\n",
    "        user_prompt = f\"\"\"Write up a findings section based on these observations\"\"\"\n",
    "        generate_model_output(l3, system_prompt, image_context_prompt,user_prompt=None)\n",
    "        \n",
    "        print(\" \\n -------------------------------- \\n\")\n",
    "        if i == 0: \n",
    "            break\n"
   ]
  }
 ],
 "metadata": {
  "kernelspec": {
   "display_name": ".venv",
   "language": "python",
   "name": "python3"
  },
  "language_info": {
   "codemirror_mode": {
    "name": "ipython",
    "version": 3
   },
   "file_extension": ".py",
   "mimetype": "text/x-python",
   "name": "python",
   "nbconvert_exporter": "python",
   "pygments_lexer": "ipython3",
   "version": "3.10.12"
  }
 },
 "nbformat": 4,
 "nbformat_minor": 2
}
