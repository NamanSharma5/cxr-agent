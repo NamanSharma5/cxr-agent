{
 "cells": [
  {
   "cell_type": "code",
   "execution_count": 1,
   "metadata": {},
   "outputs": [],
   "source": [
    "import os\n",
    "os.environ['HF_HOME'] = '/vol/biomedic3/bglocker/ugproj2324/nns20/cxr-agent/.hf_cache' ## THIS HAS TO BE BEFORE YOU IMPORT TRANSFORMERS\n",
    "\n",
    "import transformers\n",
    "import torch\n",
    "\n",
    "from abc import ABC, abstractmethod\n",
    "from pathlib import Path\n",
    "from typing import Optional\n",
    "from my_secrets import LLAMA3_INSTRUCT_ACCESS_TOKEN\n",
    "from agent_utils import select_best_gpu\n",
    "\n",
    "from pathology_detector import PathologyDetector, CheXagentVisionTransformerPathologyDetector\n",
    "from pathology_sets import Pathologies\n",
    "\n",
    "from phrase_grounder import PhraseGrounder, BioVilTPhraseGrounder\n",
    "\n",
    "class GenerationEngine(ABC):\n",
    "\n",
    "\n",
    "    @abstractmethod\n",
    "    def generate_model_output(self, system_prompt: str , image_context_prompt: str, user_prompt:Optional[str] = None):\n",
    "        pass\n",
    "\n",
    "    \n",
    "    def contextualise_model(image_path: Path, pathology_detector: PathologyDetector, phrase_grounder: Optional[PhraseGrounder] = None) -> str:\n",
    "        \n",
    "        pathology_detection_threshold = 0.5\n",
    "\n",
    "        if pathology_detector is not None:\n",
    "            pathology_confidences = pathology_detector.detect_pathologies(image_path, threshold = pathology_detection_threshold)\n",
    "            print(pathology_confidences)\n",
    "        else:\n",
    "            return RuntimeError(\"Pathology detector not provided\")\n",
    "        \n",
    "        #### PROMPT PIPELINE ###\n",
    "        if len(pathology_confidences) == 0:\n",
    "            system_prompt = \"\"\" You are a helpful assistant, specialising in radiology and interpreting Chest X-rays. However there is insufficient data make any comments. Just mention it is possible there are no findings and this should be double checked by a radiologist.\"\"\"\n",
    "            image_context_prompt = f\"\"\"No pathologies were detected in the chest X-ray image. The user will now interact with you.\"\"\"\n",
    "            return system_prompt, image_context_prompt\n",
    "        \n",
    "\n",
    "        system_prompt = \"\"\"You are a helpful assistant, specialising in radiology and interpreting Chest X-rays. Please answer CONCISELY and professionally as a radiologist would. You should not be confident unless the data is confident. Use language that reflects the confidence of the data.\"\"\"\n",
    "        image_context_prompt_final_part = \"\"\"This understanding is crucial for accurately processing and responding to queries on the chest X-ray analysis. Structure your answers based on confidence and pathologies.\n",
    "                Double check before you submit your response to ensure you have factored in all the data and followed my instructions carefully.\n",
    "                The end-user will now interact with you.\"\"\"\n",
    "\n",
    "        if phrase_grounder is None:\n",
    "            image_context_prompt = f\"\"\"\n",
    "                You are being provided with data derived from analyzing a chest X-ray, which includes findings on potential pathologies alongside their confidence levels.\n",
    "                This information comes from a specialized diagnostic tools.\n",
    "                It's important to recognize how to interpret this when responding to queries:\n",
    "\n",
    "                Pathology Detection with Confidence Scores:\n",
    "                {pathology_confidences}\n",
    "                Please note the closer the value to 1, the more likely the pathology is present in the image. \n",
    "\n",
    "                It is important to factor medical knowledge and the specifics of each case, if supplied, into your responses.\n",
    "\n",
    "                {image_context_prompt_final_part}\n",
    "            \"\"\"\n",
    "\n",
    "        else:\n",
    "            pathologies = [pathology for pathology, confidence in pathology_confidences.items() if confidence > pathology_detection_threshold]\n",
    "            grounded_pathologies_confidences = phrase_grounder.get_pathology_lateral_position(image_path, pathologies)\n",
    "            print(grounded_pathologies_confidences)\n",
    "            if len(grounded_pathologies_confidences) == 0:\n",
    "                grounded_pathologies_confidences = \"No lateral positions could be confidently determined for any pathologies detected.\"\n",
    "\n",
    "            image_context_prompt = f\"\"\"\n",
    "            You are being provided with data derived from analyzing a chest X-ray, which includes findings on potential pathologies alongside their confidence levels and, separately, possible lateral locations of these pathologies with their own confidence scores.\n",
    "            This information comes from two specialized diagnostic tools.\n",
    "            It's important to recognize how to interpret these datasets together when responding to queries:\n",
    "\n",
    "            Pathology Detection with Confidence Scores:\n",
    "            {pathology_confidences}\n",
    "\n",
    "            Phrase Grounding Locations with Confidence Scores:\n",
    "            {grounded_pathologies_confidences}\n",
    "\n",
    "            This separate dataset provides potential lateral locations for some of the detected pathologies, each with its own confidence score, indicating the model's certainty about each pathology's location.\n",
    "            For instance, left Pleural Effusion is listed with a confidence score of 0.53, suggesting the location of Pleural Effusion to be on the left side with moderate confidence.\n",
    "            \n",
    "            When you interact with end users, remember:\n",
    "            \n",
    "            - A pathology and its lateral location (e.g., Pleural Effusion and left Pleural Effusion) are part of the same finding. The location attribute is an additional detail about where the pathology is likely found, not an indicator of a separate pathology. \n",
    "            - Synthesize the pathology detection and localization data. DO NOT TALK ABOUT THEM SEPERATELY. Here is a model example, \"Highly likely there is Pleural Effusion (detection confidence: 0.80), and it is possibly on the left side (localisation confidence: 0.53).\"\n",
    "            - Confidence scores from the pathology detection and phrase grounding tools are not directly comparable. They serve as indicators of confidence within their respective contexts of pathology detection and localisation.\n",
    "            - A missing lateral location does not imply the absence of a pathology; it indicates the localisation could not be confidently determined.\n",
    "            - If there is any discrepancy between the pathology detection and phrase grounding tools, detection data takes precedence as it more reliably identifies pathologies.\n",
    "\n",
    "            It is important to factor medical knowledge and the specifics of each case, if supplied, into your responses. For example, pathologies located on both sides are called bilateral. Heart related observations are usually on the left/ middle.\n",
    "\n",
    "            {image_context_prompt_final_part}\n",
    "            \"\"\"\n",
    "            \n",
    "        return system_prompt, image_context_prompt\n",
    "\n",
    "\n",
    "\n",
    "class Llama3Generation(GenerationEngine):\n",
    "\n",
    "    def __init__(self):\n",
    "        self.model_id = \"meta-llama/Meta-Llama-3-8B-Instruct\"\n",
    "\n",
    "        self.pipeline = transformers.pipeline(\n",
    "            \"text-generation\",\n",
    "            model=self.model_id,\n",
    "            model_kwargs={\"torch_dtype\": torch.bfloat16},\n",
    "            device_map= select_best_gpu() ,\n",
    "            token=LLAMA3_INSTRUCT_ACCESS_TOKEN,\n",
    "        )\n",
    "\n",
    "    def generate_model_output(self, system_prompt: str , image_context_prompt: str, user_prompt:Optional[str] = None):\n",
    "        def format_output(output_text: str) -> str:\n",
    "            return \"\\n\".join(output_text.split(\". \"))  # print output text with each sentence on a new line\n",
    "\n",
    "        terminators = [\n",
    "            self.pipeline.tokenizer.eos_token_id,\n",
    "            self.pipeline.tokenizer.convert_tokens_to_ids(\"<|eot_id|>\")\n",
    "        ]\n",
    "\n",
    "        if user_prompt is not None:\n",
    "            messages = [\n",
    "                {\"role\": \"system\", \"content\": system_prompt},\n",
    "                {\"role\": \"user\", \"content\": image_context_prompt +\"\\n\" + user_prompt},\n",
    "            ]\n",
    "\n",
    "            prompt = self.pipeline.tokenizer.apply_chat_template(\n",
    "                    messages, \n",
    "                    tokenize=False, \n",
    "                    add_generation_prompt=True\n",
    "            )\n",
    "\n",
    "            outputs = self.pipeline(\n",
    "                prompt,\n",
    "                max_new_tokens=512,\n",
    "                eos_token_id=terminators,\n",
    "                do_sample=True,\n",
    "                temperature=0.6,\n",
    "                top_p=0.9,\n",
    "            )\n",
    "            output_text = outputs[0][\"generated_text\"][len(prompt):]\n",
    "            print(format_output(output_text))\n",
    "            return outputs[0][\"generated_text\"][len(prompt):]\n",
    "        \n",
    "        else:\n",
    "            # setup chat loop\n",
    "            chat_history = [\n",
    "                {\"role\": \"system\", \"content\": system_prompt},\n",
    "                {\"role\": \"user\", \"content\": image_context_prompt},\n",
    "            ]\n",
    "\n",
    "            user_prompt = \"\"\n",
    "            while user_prompt != \"exit\":\n",
    "                prompt = self.pipeline.tokenizer.apply_chat_template(\n",
    "                    chat_history, \n",
    "                    tokenize=False, \n",
    "                    add_generation_prompt=True\n",
    "                )\n",
    "\n",
    "                outputs = self.pipeline(\n",
    "                    prompt,\n",
    "                    max_new_tokens=512,\n",
    "                    eos_token_id=terminators,\n",
    "                    do_sample=True,\n",
    "                    temperature=0.6,\n",
    "                    top_p=0.9,\n",
    "                )\n",
    "\n",
    "                output_text = outputs[0][\"generated_text\"][len(prompt):]\n",
    "                chat_history.append({\"role\": \"assistant\", \"content\": output_text})\n",
    "                print(format_output(output_text))\n",
    "\n",
    "                user_prompt = input(\"User: \")\n",
    "                print(f\"\\n{user_prompt}\")\n",
    "                chat_history.append({\"role\": \"user\", \"content\": user_prompt})\n",
    "            return chat_history\n",
    "\n",
    "class CheXagentLanguageModelGeneration(GenerationEngine):\n",
    "\n",
    "    def __init__(self, processor, model, generation_config, device, dtype):\n",
    "        self.processor = processor\n",
    "        self.model = model\n",
    "        self.generation_config = generation_config\n",
    "        self.device = device\n",
    "        self.dtype = dtype\n",
    "\n",
    "    def generate_model_output(self, system_prompt: str , image_context_prompt: str, user_prompt:Optional[str] = None):\n",
    "        prompt = \"Say hi to me!\"\n",
    "        inputs = self.processor(\n",
    "        images=None, text=f\"USER: <s>{prompt} ASSISTANT: <s>\", return_tensors=\"pt\"\n",
    "        ).to(device=self.device)\n",
    "        # print(inputs.keys())\n",
    "        output = self.model.generate(**inputs, generation_config=self.generation_config)[0]\n",
    "        response = self.processor.tokenizer.decode(output, skip_special_tokens=True)\n",
    "        print(response)\n"
   ]
  },
  {
   "cell_type": "code",
   "execution_count": 2,
   "metadata": {},
   "outputs": [
    {
     "name": "stdout",
     "output_type": "stream",
     "text": [
      "GPU 0: NVIDIA RTX 6000 Ada Generation, Free memory: 46315 MB\n",
      "GPU 1: NVIDIA RTX 6000 Ada Generation, Free memory: 48643 MB\n",
      "Selecting GPU 1 with 48643 MB free memory, Device = cuda:1\n"
     ]
    },
    {
     "data": {
      "application/vnd.jupyter.widget-view+json": {
       "model_id": "253930064f4a4d669d5919c7097a94a2",
       "version_major": 2,
       "version_minor": 0
      },
      "text/plain": [
       "Loading checkpoint shards:   0%|          | 0/7 [00:00<?, ?it/s]"
      ]
     },
     "metadata": {},
     "output_type": "display_data"
    },
    {
     "name": "stderr",
     "output_type": "stream",
     "text": [
      "The tokenizer class you load from this checkpoint is not the same type as the class this function is called from. It may result in unexpected tokenization. \n",
      "The tokenizer class you load from this checkpoint is 'BertTokenizer'. \n",
      "The class this function is called from is 'CXRBertTokenizer'.\n"
     ]
    },
    {
     "name": "stdout",
     "output_type": "stream",
     "text": [
      "CheXagent Model loaded\n"
     ]
    },
    {
     "name": "stderr",
     "output_type": "stream",
     "text": [
      "You are using a model of type bert to instantiate a model of type cxr-bert. This is not supported for all configurations of models and can yield errors.\n",
      "/vol/biomedic3/bglocker/ugproj2324/nns20/cxr-agent/.venv/lib/python3.10/site-packages/torch/_utils.py:831: UserWarning: TypedStorage is deprecated. It will be removed in the future and UntypedStorage will be the only storage class. This should only matter to you if you are using storages directly.  To access UntypedStorage directly, use tensor.untyped_storage() instead of tensor.storage()\n",
      "  return self.fget.__get__(instance, owner)()\n",
      "Some weights of the model checkpoint at microsoft/BiomedVLP-BioViL-T were not used when initializing CXRBertModel: ['bert.pooler.dense.bias', 'bert.pooler.dense.weight']\n",
      "- This IS expected if you are initializing CXRBertModel from the checkpoint of a model trained on another task or with another architecture (e.g. initializing a BertForSequenceClassification model from a BertForPreTraining model).\n",
      "- This IS NOT expected if you are initializing CXRBertModel from the checkpoint of a model that you expect to be exactly identical (initializing a BertForSequenceClassification model from a BertForSequenceClassification model).\n"
     ]
    },
    {
     "name": "stdout",
     "output_type": "stream",
     "text": [
      "Using downloaded and verified file: /tmp/biovil_t_image_model_proj_size_128.pt\n",
      "GPU 0: NVIDIA RTX 6000 Ada Generation, Free memory: 45885 MB\n",
      "GPU 1: NVIDIA RTX 6000 Ada Generation, Free memory: 31391 MB\n",
      "Selecting GPU 0 with 45885 MB free memory, Device = cuda:0\n",
      "GPU 0: NVIDIA RTX 6000 Ada Generation, Free memory: 45313 MB\n",
      "GPU 1: NVIDIA RTX 6000 Ada Generation, Free memory: 31391 MB\n",
      "Selecting GPU 0 with 45313 MB free memory, Device = cuda:0\n"
     ]
    },
    {
     "data": {
      "application/vnd.jupyter.widget-view+json": {
       "model_id": "e8f4fc09b8964564bfe6e32ff6f8c613",
       "version_major": 2,
       "version_minor": 0
      },
      "text/plain": [
       "Loading checkpoint shards:   0%|          | 0/4 [00:00<?, ?it/s]"
      ]
     },
     "metadata": {},
     "output_type": "display_data"
    },
    {
     "name": "stderr",
     "output_type": "stream",
     "text": [
      "Special tokens have been added in the vocabulary, make sure the associated word embeddings are fine-tuned or trained.\n"
     ]
    }
   ],
   "source": [
    "pathology_detector = CheXagentVisionTransformerPathologyDetector(pathologies=Pathologies.CHEXPERT)\n",
    "phrase_grounder = BioVilTPhraseGrounder(detection_threshold=0.5)\n",
    "l3 = Llama3Generation()\n",
    "cheXagent_lm = CheXagentLanguageModelGeneration(pathology_detector.processor, pathology_detector.model, pathology_detector.generation_config, pathology_detector.device, pathology_detector.dtype)\n"
   ]
  },
  {
   "cell_type": "code",
   "execution_count": 3,
   "metadata": {},
   "outputs": [
    {
     "name": "stderr",
     "output_type": "stream",
     "text": [
      "Setting `pad_token_id` to `eos_token_id`:2 for open-end generation.\n"
     ]
    },
    {
     "name": "stdout",
     "output_type": "stream",
     "text": [
      "Hi there! My name is ChatGPT, and I'm an AI language model. I'm here to help answer your questions and provide information. How can I assist you today?\n"
     ]
    }
   ],
   "source": [
    "cheXagent_lm.generate_model_output(\"test\",\"test\")"
   ]
  },
  {
   "cell_type": "code",
   "execution_count": 5,
   "metadata": {},
   "outputs": [
    {
     "name": "stdout",
     "output_type": "stream",
     "text": [
      "Collecting image 0\n",
      "image_path='test/patient64808/study1/view1_frontal.jpg'\n",
      "{'No Finding': 0.79}\n"
     ]
    },
    {
     "name": "stderr",
     "output_type": "stream",
     "text": [
      "Setting `pad_token_id` to `eos_token_id`:128009 for open-end generation.\n"
     ]
    },
    {
     "name": "stdout",
     "output_type": "stream",
     "text": [
      "{}\n",
      "Based on the analysis, the findings are:\n",
      "\n",
      "Highly likely there is No Finding (detection confidence: 0.79).\n",
      " \n",
      " -------------------------------- \n",
      "\n",
      "image_path='test/patient64808/study1/view2_lateral.jpg'\n",
      "{'No Finding': 0.62}\n"
     ]
    },
    {
     "name": "stderr",
     "output_type": "stream",
     "text": [
      "Setting `pad_token_id` to `eos_token_id`:128009 for open-end generation.\n"
     ]
    },
    {
     "name": "stdout",
     "output_type": "stream",
     "text": [
      "{}\n",
      "Findings:\n",
      "\n",
      "There is a highly likely finding of No Finding (detection confidence: 0.62), indicating that the chest X-ray does not show any significant pathology.\n",
      "\n",
      "Note: Since no lateral locations could be confidently determined for any pathologies detected, the location information is not provided.\n",
      " \n",
      " -------------------------------- \n",
      "\n",
      "image_path='test/patient64809/study1/view1_frontal.jpg'\n",
      "{'No Finding': 0.64}\n"
     ]
    },
    {
     "name": "stderr",
     "output_type": "stream",
     "text": [
      "Setting `pad_token_id` to `eos_token_id`:128009 for open-end generation.\n"
     ]
    },
    {
     "name": "stdout",
     "output_type": "stream",
     "text": [
      "{}\n"
     ]
    },
    {
     "name": "stderr",
     "output_type": "stream",
     "text": [
      "Setting `pad_token_id` to `eos_token_id`:128009 for open-end generation.\n"
     ]
    },
    {
     "name": "stdout",
     "output_type": "stream",
     "text": [
      "Findings:\n",
      "\n",
      "Highly likely there is No Finding (detection confidence: 0.64), which suggests that the chest X-ray does not reveal any significant abnormalities.\n",
      " \n",
      " -------------------------------- \n",
      "\n",
      "image_path='test/patient64809/study1/view2_frontal.jpg'\n",
      "{}\n",
      "**Findings:**\n",
      "\n",
      "The chest X-ray image appears to be normal and unremarkable\n",
      "However, due to the limited information provided, it is possible that there may be no findings or that the image may not be entirely normal\n",
      "A thorough review and analysis by a radiologist is recommended to confirm the absence of any abnormalities or to identify any potential findings that may not be immediately apparent.\n",
      " \n",
      " -------------------------------- \n",
      "\n"
     ]
    }
   ],
   "source": [
    "chexpert_test_csv_path = Path(\"/vol/biodata/data/chest_xray/CheXpert-v1.0-small/CheXpert-v1.0-small/test.csv\")\n",
    "chexpert_test_path = Path(\"/vol/biomedic3/bglocker/ugproj2324/nns20/datasets/CheXpert/small/\")\n",
    "\n",
    "with open(chexpert_test_csv_path, 'r') as f:\n",
    "    lines = f.readlines()\n",
    "    header = lines[0].split(\",\")[1:]\n",
    "    # print(header)\n",
    "    for i, line in enumerate(lines[100:]):\n",
    "        if i % 1000 == 0:\n",
    "            print(f\"Collecting image {i}\")\n",
    "\n",
    "        image_path = line.split(\",\")[0]\n",
    "        print(f\"{image_path=}\")\n",
    "        image_path = chexpert_test_path / image_path\n",
    "        system_prompt, image_context_prompt = GenerationEngine.contextualise_model(image_path=image_path,pathology_detector=pathology_detector, phrase_grounder=phrase_grounder)\n",
    "        user_prompt = f\"\"\"Write up a findings section based on these observations\"\"\"\n",
    "        # user_prompt = f\"list only the names of the pathologies in the image\"\n",
    "        l3.generate_model_output(system_prompt, image_context_prompt,user_prompt=user_prompt)\n",
    "        \n",
    "        print(\" \\n -------------------------------- \\n\")\n",
    "        if i == 3: \n",
    "            break\n"
   ]
  },
  {
   "cell_type": "code",
   "execution_count": null,
   "metadata": {},
   "outputs": [],
   "source": []
  }
 ],
 "metadata": {
  "kernelspec": {
   "display_name": ".venv",
   "language": "python",
   "name": "python3"
  },
  "language_info": {
   "codemirror_mode": {
    "name": "ipython",
    "version": 3
   },
   "file_extension": ".py",
   "mimetype": "text/x-python",
   "name": "python",
   "nbconvert_exporter": "python",
   "pygments_lexer": "ipython3",
   "version": "3.10.12"
  }
 },
 "nbformat": 4,
 "nbformat_minor": 2
}
