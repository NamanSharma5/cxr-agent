{
 "cells": [
  {
   "cell_type": "markdown",
   "metadata": {},
   "source": [
    "### Purpose of this file is to help me figure out which probe's outputs to feed into the prompt"
   ]
  },
  {
   "cell_type": "code",
   "execution_count": 1,
   "metadata": {},
   "outputs": [],
   "source": [
    "import torch\n",
    "import torch.nn as nn\n",
    "from torch.utils.data import Dataset, DataLoader\n",
    "import numpy as np\n",
    "import pandas as pd\n",
    "from pathlib import Path\n",
    "\n",
    "\n",
    "## PROBE ORDER super important  as was used to train the model\n",
    "vindr_pathologies = [\"Aortic enlargement\", \"Atelectasis\", \"Calcification\", \"Cardiomegaly\",\n",
    "              \"Clavicle fracture\", \"Consolidation\", \"Emphysema\", \"Enlarged PA\",\n",
    "              \"ILD\", \"Infiltration\", \"Lung Opacity\", \"Lung cavity\", \"Lung cyst\",\n",
    "              \"Mediastinal shift\",\"Nodule/Mass\", \"Pleural effusion\", \"Pleural thickening\",\n",
    "              \"Pneumothorax\", \"Pulmonary fibrosis\",\"Rib fracture\", \"Other lesion\",\n",
    "              \"No finding\"] \n",
    "\n",
    "\n",
    "cheXpert_pathologies = ['No Finding','Enlarged Cardiomediastinum','Cardiomegaly','Lung Opacity',\n",
    "        'Lung Lesion','Edema','Consolidation','Pneumonia','Atelectasis','Pneumothorax',\n",
    "        'Pleural Effusion','Pleural Other','Fracture','Support Devices']"
   ]
  },
  {
   "cell_type": "code",
   "execution_count": 2,
   "metadata": {},
   "outputs": [],
   "source": [
    "class BinaryMultiPathologyPresenceDataset(Dataset):\n",
    "    def __init__(self, dataframe, pathology_columns, layer = \"post_layer_norm\"): # \"q_former\"\n",
    "        self.dataframe = dataframe\n",
    "        self.pathology_columns = pathology_columns\n",
    "        self.layer = layer\n",
    "\n",
    "    def __len__(self):\n",
    "        return len(self.dataframe)\n",
    "    \n",
    "    def __getitem__(self, idx):\n",
    "        row = self.dataframe.iloc[idx]\n",
    "        \n",
    "        # Extract embeddings and drop the first dimension i.e. [1,128,768] -> [128,768]\n",
    "        embeddings = torch.tensor(row[self.layer], dtype=torch.float)\n",
    "        \n",
    "        # Extract binary labels for pathologies\n",
    "        labels_values = row[self.pathology_columns].values\n",
    "        # set the dtype of each item in values to be an int\n",
    "        labels_values = [int(item) for item in labels_values]\n",
    "        labels_tensor = torch.tensor(labels_values, dtype=torch.float)\n",
    "\n",
    "        # image_id \n",
    "        image_id = row['image_id']\n",
    "        \n",
    "        return image_id, embeddings, labels_tensor\n",
    "\n",
    "class LinearClassifier(nn.Module):\n",
    "    def __init__(self, num_features, num_classes):\n",
    "        super(LinearClassifier, self).__init__()\n",
    "        self.linear = nn.Linear(num_features, num_classes)\n",
    "    \n",
    "    def forward(self, x):\n",
    "        x = self.linear(x)\n",
    "        # Shape of x becomes [batch_size, num_classes]\n",
    "        return x"
   ]
  },
  {
   "cell_type": "code",
   "execution_count": 7,
   "metadata": {},
   "outputs": [
    {
     "data": {
      "text/plain": [
       "<All keys matched successfully>"
      ]
     },
     "execution_count": 7,
     "metadata": {},
     "output_type": "execute_result"
    }
   ],
   "source": [
    "vindr_layer_norm_weights = Path(\"/vol/biomedic3/bglocker/ugproj2324/nns20/CheXagent/model_inspection/post_layer_norm_best_vindr_model.pth\")\n",
    "vindr_layer_norm_model = LinearClassifier(1408, len(vindr_pathologies))\n",
    "vindr_layer_norm_model.load_state_dict(torch.load(vindr_layer_norm_weights))\n",
    "\n",
    "\n",
    "chexpert_layer_norm_weights = Path(\"/vol/biomedic3/bglocker/ugproj2324/nns20/CheXagent/model_inspection/post_layer_norm_best_chexpert_model.pth\")\n",
    "chexpert_layer_norm_model = LinearClassifier(1408, len(cheXpert_pathologies))\n",
    "chexpert_layer_norm_model.load_state_dict(torch.load(chexpert_layer_norm_weights))"
   ]
  },
  {
   "cell_type": "code",
   "execution_count": 22,
   "metadata": {},
   "outputs": [],
   "source": [
    "def generate_model_outputs_on_test_data(model,layer, test_data, pathologies, probabilities = False, shuffle = False, return_dict = False):\n",
    "    model.eval()\n",
    "    image_id_to_predictions = {}\n",
    "\n",
    "    if shuffle:\n",
    "        test_data = test_data.sample(frac=1).reset_index(drop=True)\n",
    "    \n",
    "    for index, row in test_data.iterrows():\n",
    "        # Extract image_id and q_former from the row\n",
    "        image_id = row['image_id']\n",
    "        embeddings = row[layer]\n",
    "\n",
    "        # convert q_former to tensor\n",
    "        embeddings = torch.tensor(embeddings, dtype=torch.float)\n",
    "        \n",
    "        if probabilities:\n",
    "            outputs = model(embeddings.view(embeddings.size(0), -1))\n",
    "            predictions = torch.sigmoid(outputs)\n",
    "\n",
    "            if return_dict:\n",
    "                # in image_id_to_predictions, store the predictions as a dict of pathologies to probabilities\n",
    "                predictions = predictions.squeeze().tolist()\n",
    "                predictions = {pathologies[i]: predictions[i] for i in range(len(pathologies))}\n",
    "                image_id_to_predictions[image_id] = predictions\n",
    "                continue\n",
    "            image_id_to_predictions[image_id] = predictions.squeeze().tolist()\n",
    "            continue\n",
    "\n",
    "\n",
    "        # Run your model to get predictions\n",
    "        with torch.no_grad():\n",
    "            outputs = model(embeddings.view(embeddings.size(0), -1))\n",
    "            predictions = torch.sigmoid(outputs)\n",
    "            predictions = predictions > 0.5\n",
    "        \n",
    "        # Convert predictions to a dictionary using the order of pathologies\n",
    "        predictions = predictions.squeeze().tolist()\n",
    "        predictions = {pathologies[i]: predictions[i] for i in range(len(pathologies))}\n",
    "        predictions = {k for k, v in predictions.items() if v}\n",
    "        if len(predictions) == 0:\n",
    "            predictions = {\"No Finding\"}\n",
    "        \n",
    "        # Store predictions in the dictionary with image_id as key\n",
    "        image_id_to_predictions[image_id] = predictions\n",
    "\n",
    "    return image_id_to_predictions"
   ]
  },
  {
   "cell_type": "code",
   "execution_count": 8,
   "metadata": {},
   "outputs": [],
   "source": [
    "test_all_pathology_path = Path(\"/vol/biomedic3/bglocker/ugproj2324/nns20/CheXagent/model_inspection/embeddings/VinDr/no_tuning_4934e91451945c8218c267aae9c34929a7677829/collated_test_all.pkl\")\n",
    "test_all_pathology = pd.read_pickle(test_all_pathology_path)\n",
    "\n",
    "VinDr_test_test_split_path = Path(\"/vol/biomedic3/bglocker/ugproj2324/nns20/datasets/VinDr-CXR/test_set_three_splits/VinDr_test_test_split.txt\")\n",
    "with open(VinDr_test_test_split_path, 'r') as f:\n",
    "    test_test_image_ids = f.read().splitlines()\n",
    "\n",
    "test_test_pathology_df = test_all_pathology[test_all_pathology[\"image_id\"].isin(test_test_image_ids)]"
   ]
  },
  {
   "cell_type": "code",
   "execution_count": 9,
   "metadata": {},
   "outputs": [],
   "source": [
    "cheXpert_test_df = pd.read_pickle(\"/vol/biomedic3/bglocker/ugproj2324/nns20/CheXagent/model_inspection/embeddings/CheXpert-small/collated_test_df.pkl\")"
   ]
  },
  {
   "cell_type": "code",
   "execution_count": 10,
   "metadata": {},
   "outputs": [
    {
     "name": "stdout",
     "output_type": "stream",
     "text": [
      "Index(['image_id', 'patch_embeddings', 'post_layer_norm', 'q_former',\n",
      "       'language_projection', 'Clavicle fracture', 'No finding',\n",
      "       'Calcification', 'Lung Opacity', 'Nodule/Mass', 'Pneumothorax',\n",
      "       'Atelectasis', 'Infiltration', 'Consolidation', 'Aortic enlargement',\n",
      "       'Other lesion', 'Emphysema', 'Lung cavity', 'Lung cyst',\n",
      "       'Pulmonary fibrosis', 'ILD', 'Cardiomegaly', 'Pleural effusion',\n",
      "       'Pleural thickening', 'Rib fracture', 'Enlarged PA',\n",
      "       'Mediastinal shift', 'Clavicle fracture position',\n",
      "       'No finding position', 'Calcification position',\n",
      "       'Lung Opacity position', 'Nodule/Mass position',\n",
      "       'Pneumothorax position', 'Atelectasis position',\n",
      "       'Infiltration position', 'Consolidation position',\n",
      "       'Aortic enlargement position', 'Other lesion position',\n",
      "       'Emphysema position', 'Lung cavity position', 'Lung cyst position',\n",
      "       'Pulmonary fibrosis position', 'ILD position', 'Cardiomegaly position',\n",
      "       'Pleural effusion position', 'Pleural thickening position',\n",
      "       'Rib fracture position', 'Enlarged PA position',\n",
      "       'Mediastinal shift position'],\n",
      "      dtype='object')\n"
     ]
    }
   ],
   "source": [
    "print(test_test_pathology_df.columns)"
   ]
  },
  {
   "cell_type": "code",
   "execution_count": 11,
   "metadata": {},
   "outputs": [
    {
     "name": "stdout",
     "output_type": "stream",
     "text": [
      "Index(['image_id', 'patch_embeddings', 'post_layer_norm', 'q_former',\n",
      "       'language_projection', 'No Finding', 'Enlarged Cardiomediastinum',\n",
      "       'Cardiomegaly', 'Lung Opacity', 'Lung Lesion', 'Edema', 'Consolidation',\n",
      "       'Pneumonia', 'Atelectasis', 'Pneumothorax', 'Pleural Effusion',\n",
      "       'Pleural Other', 'Fracture', 'Support Devices'],\n",
      "      dtype='object')\n"
     ]
    }
   ],
   "source": [
    "print(cheXpert_test_df.columns)"
   ]
  },
  {
   "cell_type": "code",
   "execution_count": 14,
   "metadata": {},
   "outputs": [],
   "source": [
    "# randomly select n rows from the cheXpert dataframe have no finding\n",
    "n = 10\n",
    "cheXpert_test_no_finding = cheXpert_test_df[cheXpert_test_df[\"No Finding\"] == 1].sample(n=n)"
   ]
  },
  {
   "cell_type": "code",
   "execution_count": 23,
   "metadata": {},
   "outputs": [],
   "source": [
    "# for both models, generate predictions on the cheXpert test no finding data\n",
    "vindr_layer_norm_no_finding_predictions = generate_model_outputs_on_test_data(vindr_layer_norm_model, \"post_layer_norm\", cheXpert_test_no_finding, vindr_pathologies, probabilities = True, return_dict = True)\n",
    "chexpert_layer_norm_no_finding_predictions = generate_model_outputs_on_test_data(chexpert_layer_norm_model, \"post_layer_norm\", cheXpert_test_no_finding, cheXpert_pathologies, probabilities = True, return_dict = True)\n"
   ]
  },
  {
   "cell_type": "code",
   "execution_count": 30,
   "metadata": {},
   "outputs": [
    {
     "name": "stdout",
     "output_type": "stream",
     "text": [
      "VinDr No Finding Image ID: patient65013/study1/view3_lateral.jpg\n",
      "VinDr probe\n",
      "{'Aortic enlargement': 0.10446276515722275, 'Atelectasis': 0.07806508988142014, 'Calcification': 0.13275589048862457, 'Cardiomegaly': 0.22468256950378418, 'Clavicle fracture': 0.05900351330637932, 'Consolidation': 0.024012327194213867, 'Emphysema': 0.033105723559856415, 'Enlarged PA': 0.04055171087384224, 'ILD': 0.41254639625549316, 'Infiltration': 0.003186184214428067, 'Lung Opacity': 0.2535903751850128, 'Lung cavity': 0.0066094291396439075, 'Lung cyst': 0.003683160524815321, 'Mediastinal shift': 0.07937994599342346, 'No finding': 0.10060049593448639, 'Nodule/Mass': 0.042468417435884476, 'Other lesion': 0.48892971873283386, 'Pleural effusion': 0.09210673719644547, 'Pleural thickening': 0.5887652039527893, 'Pneumothorax': 0.07990998774766922, 'Pulmonary fibrosis': 0.1406436264514923, 'Rib fracture': 0.04850078001618385}\n",
      "Pleural thickening\n",
      "CheXpert probe\n",
      "{'Atelectasis': 0.21724015474319458, 'Cardiomegaly': 0.14612892270088196, 'Consolidation': 0.022497400641441345, 'Edema': 0.08997682482004166, 'Enlarged Cardiomediastinum': 0.07976634800434113, 'Fracture': 0.09476978331804276, 'Lung Lesion': 0.30634140968322754, 'Lung Opacity': 0.5420376062393188, 'No Finding': 0.1528298556804657, 'Pleural Effusion': 0.08803919702768326, 'Pleural Other': 0.25212979316711426, 'Pneumonia': 0.115965336561203, 'Pneumothorax': 0.38204002380371094, 'Support Devices': 0.17002281546592712}\n",
      "Lung Opacity\n",
      "\n",
      "\n",
      "VinDr No Finding Image ID: patient65050/study1/view2_frontal.jpg\n",
      "VinDr probe\n",
      "{'Aortic enlargement': 0.1675887405872345, 'Atelectasis': 0.036702707409858704, 'Calcification': 0.07750003039836884, 'Cardiomegaly': 0.4300304055213928, 'Clavicle fracture': 0.014951355755329132, 'Consolidation': 0.09505726397037506, 'Emphysema': 0.004171747714281082, 'Enlarged PA': 0.01705011911690235, 'ILD': 0.16881003975868225, 'Infiltration': 0.0071867890655994415, 'Lung Opacity': 0.10924842208623886, 'Lung cavity': 0.01946377567946911, 'Lung cyst': 0.001191762275993824, 'Mediastinal shift': 0.015199222601950169, 'No finding': 0.6796926856040955, 'Nodule/Mass': 0.01124256756156683, 'Other lesion': 0.02784569002687931, 'Pleural effusion': 0.011173821054399014, 'Pleural thickening': 0.03310276195406914, 'Pneumothorax': 0.01226217020303011, 'Pulmonary fibrosis': 0.026761015877127647, 'Rib fracture': 0.007243193220347166}\n",
      "No finding\n",
      "CheXpert probe\n",
      "{'Atelectasis': 0.3986268639564514, 'Cardiomegaly': 0.24685326218605042, 'Consolidation': 0.07068198174238205, 'Edema': 0.07674405723810196, 'Enlarged Cardiomediastinum': 0.19942577183246613, 'Fracture': 0.016060689464211464, 'Lung Lesion': 0.07244326174259186, 'Lung Opacity': 0.386772096157074, 'No Finding': 0.24899530410766602, 'Pleural Effusion': 0.2059442549943924, 'Pleural Other': 0.04045980051159859, 'Pneumonia': 0.032581064850091934, 'Pneumothorax': 0.1657785326242447, 'Support Devices': 0.6392268538475037}\n",
      "Support Devices\n",
      "\n",
      "\n",
      "VinDr No Finding Image ID: patient64956/study1/view2_lateral.jpg\n",
      "VinDr probe\n",
      "{'Aortic enlargement': 0.013324019499123096, 'Atelectasis': 0.18596334755420685, 'Calcification': 0.07039311528205872, 'Cardiomegaly': 0.15497450530529022, 'Clavicle fracture': 0.01880628801882267, 'Consolidation': 0.013105436228215694, 'Emphysema': 0.01524258777499199, 'Enlarged PA': 0.00395497540012002, 'ILD': 0.19890187680721283, 'Infiltration': 0.0014337156899273396, 'Lung Opacity': 0.07960119098424911, 'Lung cavity': 0.004881192930042744, 'Lung cyst': 0.0028889684472233057, 'Mediastinal shift': 0.028529444709420204, 'No finding': 0.5806507468223572, 'Nodule/Mass': 0.019071169197559357, 'Other lesion': 0.37798964977264404, 'Pleural effusion': 0.049715880304574966, 'Pleural thickening': 0.14998431503772736, 'Pneumothorax': 0.04016001895070076, 'Pulmonary fibrosis': 0.040274474769830704, 'Rib fracture': 0.007215308956801891}\n",
      "No finding\n",
      "CheXpert probe\n",
      "{'Atelectasis': 0.19376778602600098, 'Cardiomegaly': 0.11393381655216217, 'Consolidation': 0.02159695141017437, 'Edema': 0.013241693377494812, 'Enlarged Cardiomediastinum': 0.08597437292337418, 'Fracture': 0.04111504927277565, 'Lung Lesion': 0.0750051811337471, 'Lung Opacity': 0.2021331489086151, 'No Finding': 0.6185998916625977, 'Pleural Effusion': 0.038480162620544434, 'Pleural Other': 0.1339217871427536, 'Pneumonia': 0.03847113251686096, 'Pneumothorax': 0.1502171903848648, 'Support Devices': 0.24836930632591248}\n",
      "No Finding\n",
      "\n",
      "\n",
      "VinDr No Finding Image ID: patient64756/study1/view1_frontal.jpg\n",
      "VinDr probe\n",
      "{'Aortic enlargement': 0.05314318835735321, 'Atelectasis': 0.038975294679403305, 'Calcification': 0.06735001504421234, 'Cardiomegaly': 0.11474373936653137, 'Clavicle fracture': 0.024452971294522285, 'Consolidation': 0.014945141971111298, 'Emphysema': 0.0039352839812636375, 'Enlarged PA': 0.006773827131837606, 'ILD': 0.08226409554481506, 'Infiltration': 0.001986596966162324, 'Lung Opacity': 0.06048692762851715, 'Lung cavity': 0.0023818043991923332, 'Lung cyst': 0.002029279014095664, 'Mediastinal shift': 0.004609504248946905, 'No finding': 0.7449280619621277, 'Nodule/Mass': 0.028194360435009003, 'Other lesion': 0.36542415618896484, 'Pleural effusion': 0.008772882632911205, 'Pleural thickening': 0.13282383978366852, 'Pneumothorax': 0.012875977903604507, 'Pulmonary fibrosis': 0.010083706118166447, 'Rib fracture': 0.006756230723112822}\n",
      "No finding\n",
      "CheXpert probe\n",
      "{'Atelectasis': 0.22495205700397491, 'Cardiomegaly': 0.05426781252026558, 'Consolidation': 0.025756562128663063, 'Edema': 0.008647410199046135, 'Enlarged Cardiomediastinum': 0.10823892802000046, 'Fracture': 0.16624027490615845, 'Lung Lesion': 0.15594661235809326, 'Lung Opacity': 0.35603243112564087, 'No Finding': 0.3440137803554535, 'Pleural Effusion': 0.03495176136493683, 'Pleural Other': 0.10889122635126114, 'Pneumonia': 0.04109441116452217, 'Pneumothorax': 0.16701848804950714, 'Support Devices': 0.16742755472660065}\n",
      "No Finding\n",
      "\n",
      "\n",
      "VinDr No Finding Image ID: patient64756/study1/view2_lateral.jpg\n",
      "VinDr probe\n",
      "{'Aortic enlargement': 0.026381410658359528, 'Atelectasis': 0.08280136436223984, 'Calcification': 0.04483088105916977, 'Cardiomegaly': 0.14609253406524658, 'Clavicle fracture': 0.08240877091884613, 'Consolidation': 0.017548473551869392, 'Emphysema': 0.03793969377875328, 'Enlarged PA': 0.0124854426831007, 'ILD': 0.16160927712917328, 'Infiltration': 0.001969059696421027, 'Lung Opacity': 0.10923232138156891, 'Lung cavity': 0.006794116459786892, 'Lung cyst': 0.004593106918036938, 'Mediastinal shift': 0.05326525494456291, 'No finding': 0.6661046743392944, 'Nodule/Mass': 0.021286234259605408, 'Other lesion': 0.4201958179473877, 'Pleural effusion': 0.07862452417612076, 'Pleural thickening': 0.4070144593715668, 'Pneumothorax': 0.07907170057296753, 'Pulmonary fibrosis': 0.0684889703989029, 'Rib fracture': 0.020263751968741417}\n",
      "No finding\n",
      "CheXpert probe\n",
      "{'Atelectasis': 0.45253753662109375, 'Cardiomegaly': 0.0487128309905529, 'Consolidation': 0.028376029804348946, 'Edema': 0.024946201592683792, 'Enlarged Cardiomediastinum': 0.07610899955034256, 'Fracture': 0.13555142283439636, 'Lung Lesion': 0.15723805129528046, 'Lung Opacity': 0.4766029119491577, 'No Finding': 0.38366907835006714, 'Pleural Effusion': 0.030534692108631134, 'Pleural Other': 0.13316413760185242, 'Pneumonia': 0.08505149930715561, 'Pneumothorax': 0.2583349049091339, 'Support Devices': 0.19650837779045105}\n",
      "No Finding\n",
      "\n",
      "\n",
      "VinDr No Finding Image ID: patient64886/study1/view1_frontal.jpg\n",
      "VinDr probe\n",
      "{'Aortic enlargement': 0.05072809010744095, 'Atelectasis': 0.00814106035977602, 'Calcification': 0.05497635900974274, 'Cardiomegaly': 0.04649920016527176, 'Clavicle fracture': 0.03360646590590477, 'Consolidation': 0.05571741610765457, 'Emphysema': 0.00854414887726307, 'Enlarged PA': 0.013511528261005878, 'ILD': 0.17780256271362305, 'Infiltration': 0.010510399006307125, 'Lung Opacity': 0.09016672521829605, 'Lung cavity': 0.00753452954813838, 'Lung cyst': 0.002846312941983342, 'Mediastinal shift': 0.005811765324324369, 'No finding': 0.8779343366622925, 'Nodule/Mass': 0.05567127466201782, 'Other lesion': 0.04799323156476021, 'Pleural effusion': 0.017146548256278038, 'Pleural thickening': 0.06931599974632263, 'Pneumothorax': 0.03648588806390762, 'Pulmonary fibrosis': 0.037052419036626816, 'Rib fracture': 0.03134455531835556}\n",
      "No finding\n",
      "CheXpert probe\n",
      "{'Atelectasis': 0.17746056616306305, 'Cardiomegaly': 0.06671879440546036, 'Consolidation': 0.016405826434493065, 'Edema': 0.037783581763505936, 'Enlarged Cardiomediastinum': 0.09418931603431702, 'Fracture': 0.1829742044210434, 'Lung Lesion': 0.21902728080749512, 'Lung Opacity': 0.21189847588539124, 'No Finding': 0.3630923330783844, 'Pleural Effusion': 0.06439973413944244, 'Pleural Other': 0.1897251456975937, 'Pneumonia': 0.053954221308231354, 'Pneumothorax': 0.25388357043266296, 'Support Devices': 0.12267427146434784}\n",
      "No Finding\n",
      "\n",
      "\n",
      "VinDr No Finding Image ID: patient65013/study1/view2_frontal.jpg\n",
      "VinDr probe\n",
      "{'Aortic enlargement': 0.2544001042842865, 'Atelectasis': 0.04570285603404045, 'Calcification': 0.20440609753131866, 'Cardiomegaly': 0.17031295597553253, 'Clavicle fracture': 0.01973637565970421, 'Consolidation': 0.05539575219154358, 'Emphysema': 0.0051665594801306725, 'Enlarged PA': 0.02545742131769657, 'ILD': 0.39870449900627136, 'Infiltration': 0.005997481290251017, 'Lung Opacity': 0.40848246216773987, 'Lung cavity': 0.013060320168733597, 'Lung cyst': 0.00427109282463789, 'Mediastinal shift': 0.01035118754953146, 'No finding': 0.1068822592496872, 'Nodule/Mass': 0.11627331376075745, 'Other lesion': 0.07102300226688385, 'Pleural effusion': 0.051239874213933945, 'Pleural thickening': 0.19677439332008362, 'Pneumothorax': 0.007810414303094149, 'Pulmonary fibrosis': 0.04793843626976013, 'Rib fracture': 0.02087763510644436}\n",
      "No Finding\n",
      "CheXpert probe\n",
      "{'Atelectasis': 0.25012731552124023, 'Cardiomegaly': 0.1000039204955101, 'Consolidation': 0.029904000461101532, 'Edema': 0.026651497930288315, 'Enlarged Cardiomediastinum': 0.18759723007678986, 'Fracture': 0.0714794173836708, 'Lung Lesion': 0.5008100271224976, 'Lung Opacity': 0.42566588521003723, 'No Finding': 0.05127377435564995, 'Pleural Effusion': 0.2893255054950714, 'Pleural Other': 0.15891414880752563, 'Pneumonia': 0.11894812434911728, 'Pneumothorax': 0.19228783249855042, 'Support Devices': 0.12475255131721497}\n",
      "Lung Lesion\n",
      "\n",
      "\n",
      "VinDr No Finding Image ID: patient64806/study1/view1_frontal.jpg\n",
      "VinDr probe\n",
      "{'Aortic enlargement': 0.2015700489282608, 'Atelectasis': 0.10940789431333542, 'Calcification': 0.20313110947608948, 'Cardiomegaly': 0.13568325340747833, 'Clavicle fracture': 0.021805664524435997, 'Consolidation': 0.02499712072312832, 'Emphysema': 0.007311920169740915, 'Enlarged PA': 0.05103537440299988, 'ILD': 0.2081979215145111, 'Infiltration': 0.009349334053695202, 'Lung Opacity': 0.18762017786502838, 'Lung cavity': 0.002530552912503481, 'Lung cyst': 0.005677890032529831, 'Mediastinal shift': 0.015641409903764725, 'No finding': 0.03688241168856621, 'Nodule/Mass': 0.32773104310035706, 'Other lesion': 0.11712491512298584, 'Pleural effusion': 0.024896562099456787, 'Pleural thickening': 0.027649911120533943, 'Pneumothorax': 0.019986454397439957, 'Pulmonary fibrosis': 0.1177128329873085, 'Rib fracture': 0.011499181389808655}\n",
      "No Finding\n",
      "CheXpert probe\n",
      "{'Atelectasis': 0.2455201894044876, 'Cardiomegaly': 0.1452644020318985, 'Consolidation': 0.09842263907194138, 'Edema': 0.04347672313451767, 'Enlarged Cardiomediastinum': 0.10485786199569702, 'Fracture': 0.14887218177318573, 'Lung Lesion': 0.5998354554176331, 'Lung Opacity': 0.5862532258033752, 'No Finding': 0.09908966720104218, 'Pleural Effusion': 0.3848443925380707, 'Pleural Other': 0.07721433788537979, 'Pneumonia': 0.24389469623565674, 'Pneumothorax': 0.19745931029319763, 'Support Devices': 0.1501142382621765}\n",
      "Lung Lesion\n",
      "Lung Opacity\n",
      "\n",
      "\n",
      "VinDr No Finding Image ID: patient65017/study1/view1_frontal.jpg\n",
      "VinDr probe\n",
      "{'Aortic enlargement': 0.13256892561912537, 'Atelectasis': 0.010919623076915741, 'Calcification': 0.09732668846845627, 'Cardiomegaly': 0.19809041917324066, 'Clavicle fracture': 0.03492144122719765, 'Consolidation': 0.19754010438919067, 'Emphysema': 0.024654792621731758, 'Enlarged PA': 0.04462824761867523, 'ILD': 0.3316524624824524, 'Infiltration': 0.03676804527640343, 'Lung Opacity': 0.1875232309103012, 'Lung cavity': 0.05845215544104576, 'Lung cyst': 0.0031243585981428623, 'Mediastinal shift': 0.0687832459807396, 'No finding': 0.8009728789329529, 'Nodule/Mass': 0.08866818994283676, 'Other lesion': 0.1189737394452095, 'Pleural effusion': 0.02055804431438446, 'Pleural thickening': 0.20566989481449127, 'Pneumothorax': 0.02308664470911026, 'Pulmonary fibrosis': 0.162750706076622, 'Rib fracture': 0.018719613552093506}\n",
      "No finding\n",
      "CheXpert probe\n",
      "{'Atelectasis': 0.20995678007602692, 'Cardiomegaly': 0.052203431725502014, 'Consolidation': 0.14985080063343048, 'Edema': 0.04763302952051163, 'Enlarged Cardiomediastinum': 0.2166130244731903, 'Fracture': 0.2055874615907669, 'Lung Lesion': 0.10873668640851974, 'Lung Opacity': 0.20744332671165466, 'No Finding': 0.32549262046813965, 'Pleural Effusion': 0.11862626671791077, 'Pleural Other': 0.18020649254322052, 'Pneumonia': 0.24105477333068848, 'Pneumothorax': 0.16797879338264465, 'Support Devices': 0.10910023748874664}\n",
      "No Finding\n",
      "\n",
      "\n",
      "VinDr No Finding Image ID: patient64989/study1/view1_frontal.jpg\n",
      "VinDr probe\n",
      "{'Aortic enlargement': 0.001718037063255906, 'Atelectasis': 0.00553295249119401, 'Calcification': 0.007925263606011868, 'Cardiomegaly': 0.0019637136720120907, 'Clavicle fracture': 0.011459707282483578, 'Consolidation': 0.013221640139818192, 'Emphysema': 0.0017434492474421859, 'Enlarged PA': 0.006391642149537802, 'ILD': 0.0545780174434185, 'Infiltration': 0.004547685384750366, 'Lung Opacity': 0.023035749793052673, 'Lung cavity': 0.0011587385088205338, 'Lung cyst': 0.0010857752058655024, 'Mediastinal shift': 0.0012970676179975271, 'No finding': 0.9862011075019836, 'Nodule/Mass': 0.024022817611694336, 'Other lesion': 0.03032430075109005, 'Pleural effusion': 0.0017106899758800864, 'Pleural thickening': 0.013009415939450264, 'Pneumothorax': 0.005226036999374628, 'Pulmonary fibrosis': 0.015276004560291767, 'Rib fracture': 0.004604409448802471}\n",
      "No finding\n",
      "CheXpert probe\n",
      "{'Atelectasis': 0.042627640068531036, 'Cardiomegaly': 0.03950118646025658, 'Consolidation': 0.019633818417787552, 'Edema': 0.015997380018234253, 'Enlarged Cardiomediastinum': 0.038482386618852615, 'Fracture': 0.14304177463054657, 'Lung Lesion': 0.39671963453292847, 'Lung Opacity': 0.28203514218330383, 'No Finding': 0.591753363609314, 'Pleural Effusion': 0.021863900125026703, 'Pleural Other': 0.09843021631240845, 'Pneumonia': 0.13818293809890747, 'Pneumothorax': 0.4117005169391632, 'Support Devices': 0.11036627739667892}\n",
      "No Finding\n",
      "\n",
      "\n"
     ]
    }
   ],
   "source": [
    "# for both models print the predictions for each image id\n",
    "threshold = 0.5\n",
    "for image_id in vindr_layer_norm_no_finding_predictions:\n",
    "    print(f\"VinDr No Finding Image ID: {image_id}\")\n",
    "    print(\"VinDr probe\")\n",
    "    # sort keys in alphabetical order\n",
    "    vindr_probe_predictions = vindr_layer_norm_no_finding_predictions[image_id]\n",
    "    vindr_probe_predictions = {k: vindr_probe_predictions[k] for k in sorted(vindr_probe_predictions)}\n",
    "    print(vindr_probe_predictions)\n",
    "    # print activated pathologies\n",
    "    total_activations = 0\n",
    "    for pathology, probability in vindr_probe_predictions.items():\n",
    "        if probability > threshold:\n",
    "            total_activations += 1\n",
    "            print(pathology)\n",
    "    if total_activations == 0:\n",
    "        print(\"No Finding\")\n",
    "\n",
    "\n",
    "    print(\"CheXpert probe\")\n",
    "    chexpert_probe_predictions = chexpert_layer_norm_no_finding_predictions[image_id]\n",
    "    chexpert_probe_predictions = {k: chexpert_probe_predictions[k] for k in sorted(chexpert_probe_predictions)}\n",
    "    print(chexpert_probe_predictions)\n",
    "    # print activated pathologies\n",
    "    total_activations = 0\n",
    "    for pathology, probability in chexpert_probe_predictions.items():\n",
    "        if probability > threshold:\n",
    "            total_activations += 1\n",
    "            print(pathology)\n",
    "    if total_activations == 0:\n",
    "        print(\"No Finding\")\n",
    "\n",
    "    print(\"\\n\")\n"
   ]
  }
 ],
 "metadata": {
  "kernelspec": {
   "display_name": ".venv",
   "language": "python",
   "name": "python3"
  },
  "language_info": {
   "codemirror_mode": {
    "name": "ipython",
    "version": 3
   },
   "file_extension": ".py",
   "mimetype": "text/x-python",
   "name": "python",
   "nbconvert_exporter": "python",
   "pygments_lexer": "ipython3",
   "version": "3.10.12"
  }
 },
 "nbformat": 4,
 "nbformat_minor": 2
}
